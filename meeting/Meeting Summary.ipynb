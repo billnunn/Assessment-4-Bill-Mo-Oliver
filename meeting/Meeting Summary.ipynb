{
 "cells": [
  {
   "cell_type": "markdown",
   "id": "0125405c-1f97-4176-b3dd-1f24f4934091",
   "metadata": {},
   "source": [
    "## 14/03/2022 Meeting Assessment 4"
   ]
  },
  {
   "cell_type": "markdown",
   "id": "ddfa1bf8-9783-44af-baba-74e16ec9339b",
   "metadata": {
    "tags": []
   },
   "source": [
    "## Project Outline"
   ]
  },
  {
   "cell_type": "markdown",
   "id": "9691f383-952a-4509-8086-aac93ec54f1c",
   "metadata": {
    "jp-MarkdownHeadingCollapsed": true,
    "tags": []
   },
   "source": [
    "#### First Half (Mo + Oliver)\n",
    "- Comparing the performance of different Neural Network **optimizers**\n",
    "    - Mo has used Nesterov's Accelerate Gradient (NAG) and shared the theory on this\n",
    "    - Not sure what Oliver has used\n",
    "    - 'Adam' optimizer seems a natural/easy optimizer to compare\n",
    "    - **Need to compare to default SGD.**\n",
    "- Scientific Question:\n",
    "    - Does NAG converge faster in number of datapoints than SGD?\n",
    "    - How does 'Adam' perform?\n",
    "    - Comparison of data 'steps' vs time taken; NAG might converge faster in steps but steps might take longer(?)\n",
    "- Learning of Parameters:\n",
    "    - What DNN architecture are we using? Discuss layers/nodes etc.\n",
    "         - Could use same architecture throughout. Is this a good idea?\n",
    "             - Parameter could just be learning rate?\n",
    "         - Could use the 'best' architecture found through hyperparameter tuning/cross-validation and compare 'best' Adam to 'best' NAG to 'best' SGD. Is this too ambitious? A lot of parameters to consider.\n",
    "- Performance of the Models:\n",
    "    - Choose an appropriate metric. ***Need to discuss this***\n",
    "- Discussion on limitation of dataset\n",
    "    - Compare to 'real' cybersecurity dataset\n",
    "    - Is dataset too clean?"
   ]
  },
  {
   "cell_type": "markdown",
   "id": "dc7d9666-0aa6-40c7-95fb-2e24607570ef",
   "metadata": {
    "jp-MarkdownHeadingCollapsed": true,
    "tags": []
   },
   "source": [
    "#### Second Half (Bill lol)\n",
    "- Roughly a repeat analysis on a different dataset/setting\n",
    "- Compare optimizers on different neural architectures (RNNs, graphCNN) - 'soft section'\n",
    "    - Will run RNN using analytical bits done by Oliver and Mo, swapping DNN for RNN etc.\n",
    "    - graphCNN will be more theoretical/discussion point\n",
    "    - More deep mathematical discussion"
   ]
  },
  {
   "cell_type": "markdown",
   "id": "b6866540-f1d0-4482-a37f-eff5e9d9b2a8",
   "metadata": {
    "tags": []
   },
   "source": [
    "## Summary"
   ]
  },
  {
   "cell_type": "markdown",
   "id": "57f37332-4cde-4eeb-8896-10d669373466",
   "metadata": {},
   "source": [
    "#### Mo Summary\n",
    "- Worked on comparing Nesterov's Accelerated Gradient with Adam (optimizer) on the 10% KDD dataset from Assessment 1\n",
    "     - This is the pre-processed log-scaled version that Bill and I used in Assessment 1, but my code is flexible for any data format. \n",
    " - Both perform ridiculously well (AUC = 1.00) so comparison is difficult. \n",
    "     - Comparison is a bit easier with large batch sizes but there are some overfitting issues\n",
    "     - Probably need to check a different metric than accuracy\n",
    "     - Need to check different Neural Net architectures (number of layers/nodes)\n",
    "     "
   ]
  },
  {
   "cell_type": "markdown",
   "id": "83a35d25-3f22-4c6f-805b-fdbac831f5d2",
   "metadata": {},
   "source": [
    "#### Oliver + Mo\n",
    "- If you've been working with the KDD dataset, Mo and Oliver need to collaborate on:\n",
    "    - A more consistent dataset usage (share the same pre-processing, test/train split etc.) \n",
    "    - A common metric for better comparison (also, are we predicting attack/not attack or norma/u2r/dos/...)\n",
    "- Need to work on a shared final analysis"
   ]
  }
 ],
 "metadata": {
  "kernelspec": {
   "display_name": "assessment4env",
   "language": "python",
   "name": "assessment4env"
  },
  "language_info": {
   "codemirror_mode": {
    "name": "ipython",
    "version": 3
   },
   "file_extension": ".py",
   "mimetype": "text/x-python",
   "name": "python",
   "nbconvert_exporter": "python",
   "pygments_lexer": "ipython3",
   "version": "3.8.5"
  }
 },
 "nbformat": 4,
 "nbformat_minor": 5
}
