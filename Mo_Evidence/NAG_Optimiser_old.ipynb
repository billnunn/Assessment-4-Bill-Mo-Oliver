{
 "cells": [
  {
   "cell_type": "markdown",
   "id": "f1882ec0-6714-461d-9c0f-f7e7c73c6adf",
   "metadata": {},
   "source": [
    "## Nesterov Accelerated Gradient"
   ]
  },
  {
   "cell_type": "markdown",
   "id": "b0b3532e-6294-4843-a7df-89bf5f3507b3",
   "metadata": {},
   "source": [
    "In this section, we look at how Nesterov's Accelerated Gradient (NAG) performs as our optimizer. This is partly inspired by [Sutskever et al. 2013](http://proceedings.mlr.press/v28/sutskever13.pdf) and [this stackoverflow](https://stackoverflow.com/questions/50774683/how-is-nesterovs-accelerated-gradient-descent-implemented-in-tensorflow) post on [TensorFlow's implementation](https://www.tensorflow.org/api_docs/python/tf/keras/optimizers/SGD) of NAG."
   ]
  },
  {
   "cell_type": "markdown",
   "id": "59c9d2b8-225a-44a4-823e-ae12a301cdfb",
   "metadata": {},
   "source": [
    "### Theory vs Implementation"
   ]
  },
  {
   "cell_type": "markdown",
   "id": "2a4cd38e-7e6c-42b5-b5a8-a4d3c3e82f5d",
   "metadata": {},
   "source": [
    "It is worth noting that the original NAG uses momentum to update weights. So for a weight $\\theta_t$, a loss function that we are minimizing $f(theta_t)$ with gradient $\\nabla f(\\theta_t)$, momentum $\\mu \\in [0,1]$, learning rate $\\epsilon$, and velocity $v_t$:\n",
    "\n",
    "$$\n",
    "\\begin{eqnarray}\n",
    "v_{t+1} &=& \\mu v_t + \\epsilon \\nabla f(\\theta_t + \\mu vt) \\\\\n",
    "\\theta_{t+1} &=& \\theta_t + v_{t+1} \n",
    "\\end{eqnarray}\n",
    "$$\n",
    "\n",
    "However, TensorFlow uses an approximation of this, which is described in the Sutskever paper as Classical Momentum (CM), given by:\n",
    "\n",
    "$$\n",
    "\\begin{eqnarray}\n",
    "v_{t+1} &=& \\mu v_t + \\epsilon \\nabla f(\\theta_t) \\\\\n",
    "\\theta_{t+1} &=& \\theta_t + v_{t+1}\n",
    "\\end{eqnarray}\n",
    "$$\n",
    "\n",
    "This serves as an approximation to NAG which holds for $\\mu \\approx 1$ and gradient condition $\\nabla f(\\theta_t) <<< \\mu v_t$. However, the latter approximation does not always hold, though we can rectify this to some extent by choosing a very small learning rate $\\epsilon$. Depending on the nature of our dataset, this may mean that the learning rate has to be so small for our gradient condition to be met that a true NAG optimizer would end up being slower. As a result, we will optimise for learning rate to pick the best-performing option, though this may mean that we end up with $\\epsilon$ too large for our optimiser to be a true NAG optimiser.\n",
    "\n",
    "This may mean that our results are not ideal compared to a true NAG optimiser, but we should hopefully see faster convergence than traditional gradient descent. Namely, NAG should converge at rate $\\frac{1}{k^2}$ compared to traditional gradient descent which converges at $\\frac{1}{k}$ where k is the number of steps taken.\n",
    "\n",
    "We note also that NAG should theoretically shine more when the learning procedure takes more steps to converge to some optima, i.e. where the data is such that deep learning is truly needed and is not quickly/easily optimised by shallow learning methods as in that case our neural network would converge in very small values of $k$ such that $k$ and $k^2$ would not be easily distinguishable."
   ]
  },
  {
   "cell_type": "markdown",
   "id": "285a721f-d574-47e4-9db0-668b5a17b42e",
   "metadata": {
    "jp-MarkdownHeadingCollapsed": true,
    "tags": []
   },
   "source": [
    "## Importing"
   ]
  },
  {
   "cell_type": "code",
   "execution_count": 1,
   "id": "7a309e81-d52f-43d7-9e06-e2f6bf6f1fe0",
   "metadata": {},
   "outputs": [],
   "source": [
    "import pandas as pd\n",
    "import numpy as np\n",
    "import tensorflow as tf"
   ]
  },
  {
   "cell_type": "markdown",
   "id": "5c3e3099-032a-449d-a29b-f99b593f5762",
   "metadata": {
    "tags": []
   },
   "source": [
    "## Loading Data"
   ]
  },
  {
   "cell_type": "code",
   "execution_count": 2,
   "id": "457fc730-c5ff-4495-9e36-43161564eacb",
   "metadata": {},
   "outputs": [
    {
     "data": {
      "text/html": [
       "<div>\n",
       "<style scoped>\n",
       "    .dataframe tbody tr th:only-of-type {\n",
       "        vertical-align: middle;\n",
       "    }\n",
       "\n",
       "    .dataframe tbody tr th {\n",
       "        vertical-align: top;\n",
       "    }\n",
       "\n",
       "    .dataframe thead th {\n",
       "        text-align: right;\n",
       "    }\n",
       "</style>\n",
       "<table border=\"1\" class=\"dataframe\">\n",
       "  <thead>\n",
       "    <tr style=\"text-align: right;\">\n",
       "      <th></th>\n",
       "      <th>duration</th>\n",
       "      <th>src_bytes</th>\n",
       "      <th>dst_bytes</th>\n",
       "      <th>urgent</th>\n",
       "      <th>hot</th>\n",
       "      <th>num_failed_logins</th>\n",
       "      <th>num_compromised</th>\n",
       "      <th>num_root</th>\n",
       "      <th>num_file_creations</th>\n",
       "      <th>num_access_files</th>\n",
       "      <th>...</th>\n",
       "      <th>flag_RSTOS0</th>\n",
       "      <th>flag_RSTR</th>\n",
       "      <th>flag_S0</th>\n",
       "      <th>flag_S1</th>\n",
       "      <th>flag_S2</th>\n",
       "      <th>flag_S3</th>\n",
       "      <th>flag_SF</th>\n",
       "      <th>flag_SH</th>\n",
       "      <th>connection_type</th>\n",
       "      <th>connection_category</th>\n",
       "    </tr>\n",
       "  </thead>\n",
       "  <tbody>\n",
       "    <tr>\n",
       "      <th>0</th>\n",
       "      <td>0.0</td>\n",
       "      <td>5.204007</td>\n",
       "      <td>8.603554</td>\n",
       "      <td>0.0</td>\n",
       "      <td>0.0</td>\n",
       "      <td>0.0</td>\n",
       "      <td>0.0</td>\n",
       "      <td>0.0</td>\n",
       "      <td>0.0</td>\n",
       "      <td>0.0</td>\n",
       "      <td>...</td>\n",
       "      <td>0.0</td>\n",
       "      <td>0.0</td>\n",
       "      <td>0.0</td>\n",
       "      <td>0.0</td>\n",
       "      <td>0.0</td>\n",
       "      <td>0.0</td>\n",
       "      <td>1.0</td>\n",
       "      <td>0.0</td>\n",
       "      <td>normal</td>\n",
       "      <td>normal</td>\n",
       "    </tr>\n",
       "    <tr>\n",
       "      <th>1</th>\n",
       "      <td>0.0</td>\n",
       "      <td>5.480639</td>\n",
       "      <td>6.188264</td>\n",
       "      <td>0.0</td>\n",
       "      <td>0.0</td>\n",
       "      <td>0.0</td>\n",
       "      <td>0.0</td>\n",
       "      <td>0.0</td>\n",
       "      <td>0.0</td>\n",
       "      <td>0.0</td>\n",
       "      <td>...</td>\n",
       "      <td>0.0</td>\n",
       "      <td>0.0</td>\n",
       "      <td>0.0</td>\n",
       "      <td>0.0</td>\n",
       "      <td>0.0</td>\n",
       "      <td>0.0</td>\n",
       "      <td>1.0</td>\n",
       "      <td>0.0</td>\n",
       "      <td>normal</td>\n",
       "      <td>normal</td>\n",
       "    </tr>\n",
       "    <tr>\n",
       "      <th>2</th>\n",
       "      <td>0.0</td>\n",
       "      <td>5.463832</td>\n",
       "      <td>7.198931</td>\n",
       "      <td>0.0</td>\n",
       "      <td>0.0</td>\n",
       "      <td>0.0</td>\n",
       "      <td>0.0</td>\n",
       "      <td>0.0</td>\n",
       "      <td>0.0</td>\n",
       "      <td>0.0</td>\n",
       "      <td>...</td>\n",
       "      <td>0.0</td>\n",
       "      <td>0.0</td>\n",
       "      <td>0.0</td>\n",
       "      <td>0.0</td>\n",
       "      <td>0.0</td>\n",
       "      <td>0.0</td>\n",
       "      <td>1.0</td>\n",
       "      <td>0.0</td>\n",
       "      <td>normal</td>\n",
       "      <td>normal</td>\n",
       "    </tr>\n",
       "    <tr>\n",
       "      <th>3</th>\n",
       "      <td>0.0</td>\n",
       "      <td>5.393628</td>\n",
       "      <td>7.198931</td>\n",
       "      <td>0.0</td>\n",
       "      <td>0.0</td>\n",
       "      <td>0.0</td>\n",
       "      <td>0.0</td>\n",
       "      <td>0.0</td>\n",
       "      <td>0.0</td>\n",
       "      <td>0.0</td>\n",
       "      <td>...</td>\n",
       "      <td>0.0</td>\n",
       "      <td>0.0</td>\n",
       "      <td>0.0</td>\n",
       "      <td>0.0</td>\n",
       "      <td>0.0</td>\n",
       "      <td>0.0</td>\n",
       "      <td>1.0</td>\n",
       "      <td>0.0</td>\n",
       "      <td>normal</td>\n",
       "      <td>normal</td>\n",
       "    </tr>\n",
       "    <tr>\n",
       "      <th>4</th>\n",
       "      <td>0.0</td>\n",
       "      <td>5.384495</td>\n",
       "      <td>7.617268</td>\n",
       "      <td>0.0</td>\n",
       "      <td>0.0</td>\n",
       "      <td>0.0</td>\n",
       "      <td>0.0</td>\n",
       "      <td>0.0</td>\n",
       "      <td>0.0</td>\n",
       "      <td>0.0</td>\n",
       "      <td>...</td>\n",
       "      <td>0.0</td>\n",
       "      <td>0.0</td>\n",
       "      <td>0.0</td>\n",
       "      <td>0.0</td>\n",
       "      <td>0.0</td>\n",
       "      <td>0.0</td>\n",
       "      <td>1.0</td>\n",
       "      <td>0.0</td>\n",
       "      <td>normal</td>\n",
       "      <td>normal</td>\n",
       "    </tr>\n",
       "  </tbody>\n",
       "</table>\n",
       "<p>5 rows × 117 columns</p>\n",
       "</div>"
      ],
      "text/plain": [
       "   duration  src_bytes  dst_bytes  urgent  hot  num_failed_logins  \\\n",
       "0       0.0   5.204007   8.603554     0.0  0.0                0.0   \n",
       "1       0.0   5.480639   6.188264     0.0  0.0                0.0   \n",
       "2       0.0   5.463832   7.198931     0.0  0.0                0.0   \n",
       "3       0.0   5.393628   7.198931     0.0  0.0                0.0   \n",
       "4       0.0   5.384495   7.617268     0.0  0.0                0.0   \n",
       "\n",
       "   num_compromised  num_root  num_file_creations  num_access_files  ...  \\\n",
       "0              0.0       0.0                 0.0               0.0  ...   \n",
       "1              0.0       0.0                 0.0               0.0  ...   \n",
       "2              0.0       0.0                 0.0               0.0  ...   \n",
       "3              0.0       0.0                 0.0               0.0  ...   \n",
       "4              0.0       0.0                 0.0               0.0  ...   \n",
       "\n",
       "   flag_RSTOS0  flag_RSTR  flag_S0  flag_S1  flag_S2  flag_S3  flag_SF  \\\n",
       "0          0.0        0.0      0.0      0.0      0.0      0.0      1.0   \n",
       "1          0.0        0.0      0.0      0.0      0.0      0.0      1.0   \n",
       "2          0.0        0.0      0.0      0.0      0.0      0.0      1.0   \n",
       "3          0.0        0.0      0.0      0.0      0.0      0.0      1.0   \n",
       "4          0.0        0.0      0.0      0.0      0.0      0.0      1.0   \n",
       "\n",
       "   flag_SH  connection_type  connection_category  \n",
       "0      0.0           normal               normal  \n",
       "1      0.0           normal               normal  \n",
       "2      0.0           normal               normal  \n",
       "3      0.0           normal               normal  \n",
       "4      0.0           normal               normal  \n",
       "\n",
       "[5 rows x 117 columns]"
      ]
     },
     "execution_count": 2,
     "metadata": {},
     "output_type": "execute_result"
    }
   ],
   "source": [
    "df = pd.read_csv('../data/kdd_log_df.csv')\n",
    "df.head()"
   ]
  },
  {
   "cell_type": "markdown",
   "id": "942f9b85-00dc-4b86-b184-c41b2763b8ca",
   "metadata": {},
   "source": [
    "KFold"
   ]
  },
  {
   "cell_type": "code",
   "execution_count": 3,
   "id": "85f0ca25-4aaf-48be-ba4a-d06af3e5b119",
   "metadata": {},
   "outputs": [],
   "source": [
    "np.random.seed(42)\n",
    "from sklearn.model_selection import KFold\n",
    "kf = KFold(n_splits=10,shuffle=True)\n",
    "kfsplit=kf.split(df\n",
    "                )\n",
    "## We're going to extract out the \"test\" dataset from the first fold, to do our testing on\n",
    "# kf.split returns an iterator, i.e. it creates a function that creates a test/split\n",
    "# which we can either loop over or get the first using next\n",
    "ninefolds,onefold = next(kfsplit) \n",
    "train_data = df.loc[ninefolds]\n",
    "test_data = df.loc[onefold]"
   ]
  },
  {
   "cell_type": "code",
   "execution_count": 4,
   "id": "4b5e6e34-7bde-4ba2-b5ae-27646cecb73a",
   "metadata": {
    "jupyter": {
     "source_hidden": true
    },
    "tags": []
   },
   "outputs": [],
   "source": [
    "def createDNN(X, hidden_nodes, activations, loss, optimizer, metric):\n",
    "    '''\n",
    "    returns a compiled neural network where:\n",
    "\n",
    "        X: training dataframe\n",
    "        hidden_nodes: list containing number of nodes in each layer e.g. [24,10,10]\n",
    "        activations: list of activation functions for each layer e.g. ['relu','sigmoid','sigmoid']\n",
    "        loss: string variable e.g. 'binary_crossentropy'\n",
    "        optimizer: string variable e.g. 'adam'\n",
    "        metrics: string variable e.g. 'accuracy'\n",
    "    '''\n",
    "    input_layers = X.shape[1]\n",
    "    nn_model = tf.keras.Sequential()\n",
    "    nn_model.add(tf.keras.Input(shape=(input_layers,)))\n",
    "    \n",
    "    for i in range(len(hidden_nodes)):\n",
    "        \n",
    "        nodes = hidden_nodes[i]\n",
    "        activ = activations[i]\n",
    "        \n",
    "        nn_model.add(tf.keras.layers.Dense(nodes,activation=activ))\n",
    "\n",
    "    \n",
    "    nn_model.compile(loss=loss,optimizer=optimizer,metrics=metric)\n",
    "    \n",
    "    return nn_model"
   ]
  },
  {
   "cell_type": "markdown",
   "id": "9a9e7d2f-f742-4a2e-8947-36ee4d3601dd",
   "metadata": {},
   "source": [
    "Sort out training X and training Y"
   ]
  },
  {
   "cell_type": "markdown",
   "id": "d9f056be-33c5-4c44-a720-4c5c7b173053",
   "metadata": {},
   "source": [
    "Binary training (normal = 0, attack = 1)"
   ]
  },
  {
   "cell_type": "code",
   "execution_count": 5,
   "id": "2b2d96db-19bd-4c4f-9145-cc041a7c0ea2",
   "metadata": {},
   "outputs": [],
   "source": [
    "from tensorflow.keras.utils import to_categorical"
   ]
  },
  {
   "cell_type": "code",
   "execution_count": 6,
   "id": "76037f96-e7cd-4de9-abf4-c70a27c5f818",
   "metadata": {},
   "outputs": [
    {
     "data": {
      "text/plain": [
       "Index(['connection_type', 'connection_category'], dtype='object')"
      ]
     },
     "execution_count": 6,
     "metadata": {},
     "output_type": "execute_result"
    }
   ],
   "source": [
    "train_data.columns[-2:]"
   ]
  },
  {
   "cell_type": "code",
   "execution_count": 7,
   "id": "a426b972-125c-450d-8aed-edb28a97d01a",
   "metadata": {},
   "outputs": [
    {
     "data": {
      "text/plain": [
       "23"
      ]
     },
     "execution_count": 7,
     "metadata": {},
     "output_type": "execute_result"
    }
   ],
   "source": [
    "train_data.connection_type.nunique()"
   ]
  },
  {
   "cell_type": "code",
   "execution_count": 8,
   "id": "65be9f3c-566a-48b3-b6eb-134560132495",
   "metadata": {},
   "outputs": [],
   "source": [
    "#last 2 columns are labels so we do not grab them for our X\n",
    "X_train = train_data[train_data.columns[:-2]]\n",
    "X_test = test_data[test_data.columns[:-2]]\n",
    "\n",
    "\n",
    "#create binary label arrays for attack/not attack \n",
    "y_train_bin = train_data.connection_category.copy()\n",
    "y_test_bin = test_data.connection_category.copy()\n",
    "#turn our labels into 0 = not attack, 1 = attack\n",
    "y_test_bin = y_test_bin.apply(lambda x: 0 if x=='normal' else 1)\n",
    "y_train_bin = y_train_bin.apply(lambda x: 0 if x=='normal' else 1)\n",
    "\n",
    "#create multi category classifier e.g. normal,u2r,dos...\n",
    "y_train_multi =  train_data.connection_category.copy()\n",
    "y_test_multi =  test_data.connection_category.copy()\n",
    "#turn string labels into float categories, categs is list of categories\n",
    "y_train_multi, categs = pd.factorize(y_train_multi)\n",
    "y_test_multi, categs = pd.factorize(y_test_multi)\n",
    "#turn float categories into tf.keras matrix categories of dimension length(categs)\n",
    "#e.g. 'normal' = [1,0,0,0,0]\n",
    "y_train_multi = to_categorical(y_train_multi, num_classes = len(categs))\n",
    "y_test_multi = to_categorical(y_test_multi, num_classes = len(categs))"
   ]
  },
  {
   "cell_type": "markdown",
   "id": "735391a6-5512-4e60-932a-3029f7f845ee",
   "metadata": {},
   "source": [
    "Code below is for connection_type classification but that would need more tweaking when creating a neural network's architecture. The neural network would have to output some form of distance rather than probability of a certain type of attack, in case some attack type was not seen in training but was seen in test.\n",
    "\n",
    "For example, given the way that we split the data, we have `rootkit`, `ftp_write`, `warezmaster`,`multihop`,`spy`,`phf` attacks that exist either in the training or test data, but not in both. These existing in the training data alone is less of an issue but if they only exist in the test data then we may get nonesense classification of a class that we have not seen. A way to resolve this would be to create a neural network that outputs some sort of distance from a class rather than a probability of belonging to a class, then assigning a new observation as an `other` class if its distance from all classes exceeds a certian threshold. This, however, feels like it would fall outside the scope of this assessment, and so we do not attempt it, unless we find ourselves with enough time to try this implementation.\n",
    "\n",
    "The code is left below, commented out, for the time being."
   ]
  },
  {
   "cell_type": "code",
   "execution_count": 9,
   "id": "adf7cc95-2eff-4152-8cab-d44d41565ee9",
   "metadata": {},
   "outputs": [],
   "source": [
    "# #create multiclass category for all connection types 'normal','buffer_overflow','perl'...\n",
    "# y_train_allclass = train_data.connection_type.copy()\n",
    "# y_test_allclass = test_data.connection_type.copy()\n",
    "# #as above, factorize then turn into tf.keras categorical\n",
    "# y_train_allclass, train_classes = pd.factorize(y_train_allclass)\n",
    "# y_test_allclass, test_classes = pd.factorize(y_test_allclass)\n",
    "# #turn into tf.keras categorical\n",
    "# y_train_allclass = to_categorical(y_train_allclass, num_classes = len(train_classes))\n",
    "# y_test_allclass = to_categorical(y_test_allclass, num_classes = len(test_classes))"
   ]
  },
  {
   "cell_type": "code",
   "execution_count": 10,
   "id": "0eb55018-cbf3-49db-a5c1-229d97876f81",
   "metadata": {},
   "outputs": [],
   "source": [
    "# all_classes = set(list(train_classes)+list(test_classes))\n",
    "# inc_classes = [c for c in train_classes if c in test_classes]\n",
    "# exc_classes = [c for c in all_classes if c not in inc_classes]\n",
    "\n",
    "# exc_classes"
   ]
  },
  {
   "cell_type": "markdown",
   "id": "937c1c66-5a01-4d31-88fc-bdc025b12fd5",
   "metadata": {
    "tags": []
   },
   "source": [
    "## Training"
   ]
  },
  {
   "cell_type": "markdown",
   "id": "d5eeb685-e36a-4f93-a9d4-6a9b53700ce4",
   "metadata": {},
   "source": [
    "Train binary on adam optimizer"
   ]
  },
  {
   "cell_type": "code",
   "execution_count": 11,
   "id": "d41b1967-775c-47bb-8c77-024555895472",
   "metadata": {
    "scrolled": true,
    "tags": []
   },
   "outputs": [
    {
     "name": "stdout",
     "output_type": "stream",
     "text": [
      "Epoch 1/10\n",
      "4447/4447 [==============================] - 30s 6ms/step - loss: 0.0220 - accuracy: 0.9914\n",
      "Epoch 2/10\n",
      "4447/4447 [==============================] - 29s 6ms/step - loss: 0.0028 - accuracy: 0.9993\n",
      "Epoch 3/10\n",
      "4447/4447 [==============================] - 29s 6ms/step - loss: 0.0021 - accuracy: 0.9995\n",
      "Epoch 4/10\n",
      "4447/4447 [==============================] - 29s 6ms/step - loss: 0.0018 - accuracy: 0.9996\n",
      "Epoch 5/10\n",
      "4447/4447 [==============================] - 29s 6ms/step - loss: 0.0016 - accuracy: 0.9996\n",
      "Epoch 6/10\n",
      "4447/4447 [==============================] - 29s 6ms/step - loss: 0.0014 - accuracy: 0.9996\n",
      "Epoch 7/10\n",
      "4447/4447 [==============================] - 29s 7ms/step - loss: 0.0013 - accuracy: 0.9997\n",
      "Epoch 8/10\n",
      "4447/4447 [==============================] - 29s 7ms/step - loss: 0.0011 - accuracy: 0.9997\n",
      "Epoch 9/10\n",
      "4447/4447 [==============================] - 29s 7ms/step - loss: 0.0011 - accuracy: 0.9997\n",
      "Epoch 10/10\n",
      "4447/4447 [==============================] - 29s 7ms/step - loss: 0.0011 - accuracy: 0.9997\n"
     ]
    }
   ],
   "source": [
    "nn_model1 = createDNN(X = X_train, \n",
    "                      hidden_nodes = [10,10,1],\n",
    "                      activations = ['relu','relu','sigmoid'],\n",
    "                      loss = 'binary_crossentropy',\n",
    "                      optimizer='adam',\n",
    "                      metric='accuracy')\n",
    "\n",
    "history_adam = nn_model1.fit(X_train,y_train_bin,epochs=10,batch_size=100)"
   ]
  },
  {
   "cell_type": "markdown",
   "id": "31bbce03-2a7d-4176-a839-719b1360ca01",
   "metadata": {},
   "source": [
    "Train multiclass on adam optimizer"
   ]
  },
  {
   "cell_type": "code",
   "execution_count": 12,
   "id": "8008602f-1d47-44d6-a7af-0c772108a51d",
   "metadata": {},
   "outputs": [],
   "source": [
    "from keras.models import Sequential\n",
    "from keras.layers import Dense\n",
    "from keras.layers import Input"
   ]
  },
  {
   "cell_type": "code",
   "execution_count": 13,
   "id": "4c25f6a7-6dfc-4f46-a57a-2b9c5ae0ff8e",
   "metadata": {
    "scrolled": true,
    "tags": []
   },
   "outputs": [
    {
     "name": "stdout",
     "output_type": "stream",
     "text": [
      "Epoch 1/10\n",
      "4447/4447 [==============================] - 26s 6ms/step - loss: 0.0404 - accuracy: 0.9889\n",
      "Epoch 2/10\n",
      "4447/4447 [==============================] - 26s 6ms/step - loss: 0.0036 - accuracy: 0.9991\n",
      "Epoch 3/10\n",
      "4447/4447 [==============================] - 26s 6ms/step - loss: 0.0028 - accuracy: 0.9993\n",
      "Epoch 4/10\n",
      "4447/4447 [==============================] - 26s 6ms/step - loss: 0.0024 - accuracy: 0.9994\n",
      "Epoch 5/10\n",
      "4447/4447 [==============================] - 26s 6ms/step - loss: 0.0022 - accuracy: 0.9994\n",
      "Epoch 6/10\n",
      "4447/4447 [==============================] - 26s 6ms/step - loss: 0.0019 - accuracy: 0.9995\n",
      "Epoch 7/10\n",
      "4447/4447 [==============================] - 26s 6ms/step - loss: 0.0018 - accuracy: 0.9995\n",
      "Epoch 8/10\n",
      "4447/4447 [==============================] - 26s 6ms/step - loss: 0.0017 - accuracy: 0.9995\n",
      "Epoch 9/10\n",
      "4447/4447 [==============================] - 26s 6ms/step - loss: 0.0017 - accuracy: 0.9996\n",
      "Epoch 10/10\n",
      "4447/4447 [==============================] - 26s 6ms/step - loss: 0.0016 - accuracy: 0.9996\n"
     ]
    }
   ],
   "source": [
    "categ_model = Sequential()\n",
    "categ_model.add(Input(shape=X_train.shape[1],))\n",
    "categ_model.add(Dense(10,activation='relu'))\n",
    "categ_model.add(Dense(10,activation='relu'))\n",
    "categ_model.add(Dense(5,activation='softmax'))\n",
    "categ_model.compile(loss='categorical_crossentropy',optimizer='adam',metrics=['accuracy'])\n",
    "\n",
    "history_adam_multi = categ_model.fit(X_train,y_train_multi,epochs=10,batch_size=100)"
   ]
  },
  {
   "cell_type": "markdown",
   "id": "754a469b-8f68-482b-9a56-7adca288a8d8",
   "metadata": {},
   "source": [
    "Train NAG mwith varying learning rates on binary and multiclass"
   ]
  },
  {
   "cell_type": "code",
   "execution_count": 16,
   "id": "2507200b-5ce0-4379-b7ae-ed785c33d6fa",
   "metadata": {
    "scrolled": true,
    "tags": []
   },
   "outputs": [
    {
     "name": "stdout",
     "output_type": "stream",
     "text": [
      "-----binary learning rate 0.01-----\n",
      "Epoch 1/10\n",
      "4447/4447 [==============================] - 29s 6ms/step - loss: 0.0135 - accuracy: 0.9958\n",
      "Epoch 2/10\n",
      "4447/4447 [==============================] - 29s 6ms/step - loss: 0.0046 - accuracy: 0.9987\n",
      "Epoch 3/10\n",
      "4447/4447 [==============================] - 28s 6ms/step - loss: 0.0036 - accuracy: 0.9989\n",
      "Epoch 4/10\n",
      "4447/4447 [==============================] - 29s 6ms/step - loss: 0.0031 - accuracy: 0.9991\n",
      "Epoch 5/10\n",
      "4447/4447 [==============================] - 29s 6ms/step - loss: 0.0028 - accuracy: 0.9992\n",
      "Epoch 6/10\n",
      "4447/4447 [==============================] - 29s 6ms/step - loss: 0.0027 - accuracy: 0.9992\n",
      "Epoch 7/10\n",
      "4447/4447 [==============================] - 29s 6ms/step - loss: 0.0025 - accuracy: 0.9993\n",
      "Epoch 8/10\n",
      "4447/4447 [==============================] - 29s 6ms/step - loss: 0.0023 - accuracy: 0.9993\n",
      "Epoch 9/10\n",
      "4447/4447 [==============================] - 29s 7ms/step - loss: 0.0021 - accuracy: 0.9994\n",
      "Epoch 10/10\n",
      "4447/4447 [==============================] - 28s 6ms/step - loss: 0.0020 - accuracy: 0.9994\n",
      "\n",
      "-----multi learning rate 0.01-----\n",
      "Epoch 1/10\n",
      "4447/4447 [==============================] - 25s 6ms/step - loss: 0.0291 - accuracy: 0.9922\n",
      "Epoch 2/10\n",
      "4447/4447 [==============================] - 25s 6ms/step - loss: 0.0064 - accuracy: 0.9984\n",
      "Epoch 3/10\n",
      "4447/4447 [==============================] - 25s 6ms/step - loss: 0.0045 - accuracy: 0.9989\n",
      "Epoch 4/10\n",
      "4447/4447 [==============================] - 25s 6ms/step - loss: 0.0037 - accuracy: 0.9991\n",
      "Epoch 5/10\n",
      "4447/4447 [==============================] - 25s 6ms/step - loss: 0.0033 - accuracy: 0.9992\n",
      "Epoch 6/10\n",
      "4447/4447 [==============================] - 25s 6ms/step - loss: 0.0030 - accuracy: 0.9993\n",
      "Epoch 7/10\n",
      "4447/4447 [==============================] - 25s 6ms/step - loss: 0.0028 - accuracy: 0.9993\n",
      "Epoch 8/10\n",
      "4447/4447 [==============================] - 25s 6ms/step - loss: 0.0027 - accuracy: 0.9993\n",
      "Epoch 9/10\n",
      "4447/4447 [==============================] - 26s 6ms/step - loss: 0.0026 - accuracy: 0.9994\n",
      "Epoch 10/10\n",
      "4447/4447 [==============================] - 25s 6ms/step - loss: 0.0025 - accuracy: 0.9994\n",
      "\n",
      "-----binary learning rate 0.001-----\n",
      "Epoch 1/10\n",
      "4447/4447 [==============================] - 28s 6ms/step - loss: 0.0423 - accuracy: 0.9848\n",
      "Epoch 2/10\n",
      "4447/4447 [==============================] - 28s 6ms/step - loss: 0.0166 - accuracy: 0.9945\n",
      "Epoch 3/10\n",
      "4447/4447 [==============================] - 28s 6ms/step - loss: 0.0120 - accuracy: 0.9963\n",
      "Epoch 4/10\n",
      "4447/4447 [==============================] - 28s 6ms/step - loss: 0.0100 - accuracy: 0.9969\n",
      "Epoch 5/10\n",
      "4447/4447 [==============================] - 28s 6ms/step - loss: 0.0087 - accuracy: 0.9974\n",
      "Epoch 6/10\n",
      "4447/4447 [==============================] - 28s 6ms/step - loss: 0.0078 - accuracy: 0.9977\n",
      "Epoch 7/10\n",
      "4447/4447 [==============================] - 28s 6ms/step - loss: 0.0072 - accuracy: 0.9979\n",
      "Epoch 8/10\n",
      "4447/4447 [==============================] - 28s 6ms/step - loss: 0.0066 - accuracy: 0.9980\n",
      "Epoch 9/10\n",
      "4447/4447 [==============================] - 28s 6ms/step - loss: 0.0062 - accuracy: 0.9982\n",
      "Epoch 10/10\n",
      "4447/4447 [==============================] - 29s 6ms/step - loss: 0.0058 - accuracy: 0.9984\n",
      "\n",
      "-----multi learning rate 0.001-----\n",
      "Epoch 1/10\n",
      "4447/4447 [==============================] - 25s 6ms/step - loss: 0.0024 - accuracy: 0.9994\n",
      "Epoch 2/10\n",
      "4447/4447 [==============================] - 25s 6ms/step - loss: 0.0024 - accuracy: 0.9994\n",
      "Epoch 3/10\n",
      "4447/4447 [==============================] - 25s 6ms/step - loss: 0.0023 - accuracy: 0.9994\n",
      "Epoch 4/10\n",
      "4447/4447 [==============================] - 25s 6ms/step - loss: 0.0022 - accuracy: 0.9994\n",
      "Epoch 5/10\n",
      "4447/4447 [==============================] - 25s 6ms/step - loss: 0.0022 - accuracy: 0.9994\n",
      "Epoch 6/10\n",
      "4447/4447 [==============================] - 25s 6ms/step - loss: 0.0022 - accuracy: 0.9994\n",
      "Epoch 7/10\n",
      "4447/4447 [==============================] - 25s 6ms/step - loss: 0.0021 - accuracy: 0.9995\n",
      "Epoch 8/10\n",
      "4447/4447 [==============================] - 27s 6ms/step - loss: 0.0020 - accuracy: 0.9995\n",
      "Epoch 9/10\n",
      "4447/4447 [==============================] - 25s 6ms/step - loss: 0.0020 - accuracy: 0.9995\n",
      "Epoch 10/10\n",
      "4447/4447 [==============================] - 25s 6ms/step - loss: 0.0020 - accuracy: 0.9995\n",
      "\n"
     ]
    }
   ],
   "source": [
    "count = 1\n",
    "\n",
    "for eps in [0.01,0.001]:\n",
    "    \n",
    "    #create optimizer with learning rate above\n",
    "    opt = tf.keras.optimizers.SGD(learning_rate = eps, \n",
    "                                  momentum = 0.9, \n",
    "                                  nesterov = True)\n",
    "\n",
    "    #same parameters as before, only changing optimizer\n",
    "    nn_model_temp = createDNN(X = X_train, \n",
    "                          hidden_nodes = [10,10,1],\n",
    "                          activations = ['relu','relu','sigmoid'],\n",
    "                          loss = 'binary_crossentropy',\n",
    "                          optimizer=opt,\n",
    "                          metric='accuracy')\n",
    "    \n",
    "    locals()['nn_model_nag_{}'.format(count)] = nn_model_temp\n",
    "    \n",
    "    #same as before for categ\n",
    "    categ_model_temp = Sequential()\n",
    "    categ_model_temp.add(Input(shape=X_train.shape[1],))\n",
    "    categ_model_temp.add(Dense(10,activation='relu'))\n",
    "    categ_model_temp.add(Dense(10,activation='relu'))\n",
    "    categ_model_temp.add(Dense(5,activation='softmax'))\n",
    "    categ_model_temp.compile(loss='categorical_crossentropy',optimizer=opt,metrics=['accuracy'])\n",
    "    \n",
    "    locals()['categ_model_nag_{}'.format(count)] = categ_model_temp\n",
    "    \n",
    "\n",
    "    #better preview\n",
    "    print('-'*5 + 'binary learning rate ' + str(eps) +5*'-')\n",
    "    #fit the model in same manner as for adam\n",
    "    history = nn_model_temp.fit(X_train,y_train_bin,epochs=10,batch_size=100)\n",
    "    print()\n",
    "\n",
    "    #create a variable called history_nag_i for each learning rate where i == count\n",
    "    locals()['history_nag_{}'.format(count)] = history\n",
    "    \n",
    "    #better preview\n",
    "    print('-'*5 + 'multi learning rate ' + str(eps) +5*'-')\n",
    "    #fit the model in same manner as for adam\n",
    "    history_multi = categ_model.fit(X_train,y_train_multi,epochs=10,batch_size=100)\n",
    "    print()\n",
    "\n",
    "    #create a variable called history_nag_i for each learning rate where i == count\n",
    "    locals()['history_nag_multi_{}'.format(count)] = history_multi\n",
    "    \n",
    "    del categ_model_temp\n",
    "    del nn_model_temp\n",
    "    \n",
    "    #increase count for next iteration\n",
    "    count += 1"
   ]
  },
  {
   "cell_type": "markdown",
   "id": "e52dfd9a-81d4-45c9-8db9-bffac2bf0eac",
   "metadata": {
    "jp-MarkdownHeadingCollapsed": true,
    "tags": []
   },
   "source": [
    "## Plots"
   ]
  },
  {
   "cell_type": "code",
   "execution_count": 17,
   "id": "373deaf5-f01f-4191-baa6-4c88e2305e6b",
   "metadata": {},
   "outputs": [],
   "source": [
    "import matplotlib.pyplot as plt"
   ]
  },
  {
   "cell_type": "markdown",
   "id": "fc770e17-fa19-4001-bf85-ff5d568f6552",
   "metadata": {},
   "source": [
    "#### Binary"
   ]
  },
  {
   "cell_type": "markdown",
   "id": "858adc1a-7bad-4ef0-b2b6-58b2f1b3a769",
   "metadata": {},
   "source": [
    "Plot adam vs NAG $\\epsilon$ = 0.01 vs NAG $\\epsilon$ = 0.001 for the binary classifier case"
   ]
  },
  {
   "cell_type": "code",
   "execution_count": 18,
   "id": "5296f253-4f03-4289-b5ed-9b16be78cec7",
   "metadata": {},
   "outputs": [
    {
     "data": {
      "image/png": "[encoded data removed]",
      "text/plain": [
       "<Figure size 864x504 with 1 Axes>"
      ]
     },
     "metadata": {
      "needs_background": "light"
     },
     "output_type": "display_data"
    }
   ],
   "source": [
    "fig = plt.figure(figsize=(12,7))\n",
    "\n",
    "plt.title('Learning Curves - Binary')\n",
    "plt.xlabel('Epoch')\n",
    "plt.xticks(ticks=range(0,20,2))\n",
    "plt.ylabel('Cross Entropy')\n",
    "\n",
    "plt.plot(history_adam.history['loss'],label='adam')\n",
    "plt.plot(history_nag_1.history['loss'],label='nag eps = 0.01')\n",
    "plt.plot(history_nag_2.history['loss'],label='nag eps = 0.001')\n",
    "# plt.plot(history_nag_3.history['loss'],label='nag eps = 0.001')\n",
    "# plt.plot(history_nag_4.history['loss'],label='nag eps = 0.0001')\n",
    "\n",
    "plt.legend()\n",
    "plt.show()"
   ]
  },
  {
   "cell_type": "markdown",
   "id": "4745434b-81d8-4d73-9afb-d014e1a0cce3",
   "metadata": {},
   "source": [
    "Inspect first 5 epochs"
   ]
  },
  {
   "cell_type": "code",
   "execution_count": 19,
   "id": "35a0039f-0448-4fc4-94b7-9ab1093f2d78",
   "metadata": {},
   "outputs": [
    {
     "data": {
      "image/png": "[encoded data removed]",
      "text/plain": [
       "<Figure size 864x504 with 1 Axes>"
      ]
     },
     "metadata": {
      "needs_background": "light"
     },
     "output_type": "display_data"
    }
   ],
   "source": [
    "fig = plt.figure(figsize=(12,7))\n",
    "\n",
    "plt.title('Learning Curves - Binary')\n",
    "plt.xlabel('Epoch')\n",
    "plt.ylabel('Cross Entropy')\n",
    "\n",
    "plt.plot(history_adam.history['loss'][:5],label='adam')\n",
    "plt.plot(history_nag_1.history['loss'][:5],label='nag eps = 0.01')\n",
    "plt.plot(history_nag_2.history['loss'][:5],label='nag eps = 0.001')\n",
    "# plt.plot(history_nag_3.history['loss'],label='nag eps = 0.001')\n",
    "# plt.plot(history_nag_4.history['loss'],label='nag eps = 0.0001')\n",
    "\n",
    "plt.legend()\n",
    "plt.show()"
   ]
  },
  {
   "cell_type": "markdown",
   "id": "53cfd645-9bc1-4c4b-bc67-5734f50fddde",
   "metadata": {},
   "source": [
    "Inspect final 15 epochs"
   ]
  },
  {
   "cell_type": "code",
   "execution_count": 20,
   "id": "ed02c44d-2062-4e9e-8763-fd885dbb9e2a",
   "metadata": {},
   "outputs": [
    {
     "data": {
      "image/png": "[encoded data removed]",
      "text/plain": [
       "<Figure size 864x504 with 1 Axes>"
      ]
     },
     "metadata": {
      "needs_background": "light"
     },
     "output_type": "display_data"
    }
   ],
   "source": [
    "fig = plt.figure(figsize=(12,7))\n",
    "\n",
    "plt.title('Learning Curves - Binary')\n",
    "plt.xlabel('Epoch')\n",
    "plt.ylabel('Cross Entropy')\n",
    "\n",
    "plt.plot(history_adam.history['loss'][5:],label='adam')\n",
    "plt.plot(history_nag_1.history['loss'][5:],label='nag eps = 0.01')\n",
    "plt.plot(history_nag_2.history['loss'][5:],label='nag eps = 0.001')\n",
    "# plt.plot(history_nag_3.history['loss'],label='nag eps = 0.001')\n",
    "# plt.plot(history_nag_4.history['loss'],label='nag eps = 0.0001')\n",
    "\n",
    "plt.legend()\n",
    "plt.show()"
   ]
  },
  {
   "cell_type": "markdown",
   "id": "cabe6900-a76d-4be1-ae1f-a5b2fda591c5",
   "metadata": {},
   "source": [
    "#### Multiclass"
   ]
  },
  {
   "cell_type": "markdown",
   "id": "c1abd6b9-4dde-43e9-946f-dfc1fe048e85",
   "metadata": {},
   "source": [
    "Plot adam vs NAG $\\epsilon$ = 0.01 vs NAG $\\epsilon$ = 0.001 for the multiclass case"
   ]
  },
  {
   "cell_type": "code",
   "execution_count": 21,
   "id": "2b9ec2ed-336f-4cee-9a40-2f20d58b02e2",
   "metadata": {},
   "outputs": [
    {
     "data": {
      "image/png": "[encoded data removed]",
      "text/plain": [
       "<Figure size 864x504 with 1 Axes>"
      ]
     },
     "metadata": {
      "needs_background": "light"
     },
     "output_type": "display_data"
    }
   ],
   "source": [
    "fig = plt.figure(figsize=(12,7))\n",
    "\n",
    "plt.title('Learning Curves - Multiclass')\n",
    "plt.xlabel('Epoch')\n",
    "plt.xticks(ticks=range(0,20,2))\n",
    "plt.ylabel('Cross Entropy')\n",
    "\n",
    "plt.plot(history_adam_multi.history['loss'],label='adam')\n",
    "plt.plot(history_nag_multi_1.history['loss'],label='nag eps = 0.01')\n",
    "plt.plot(history_nag_multi_2.history['loss'],label='nag eps = 0.001')\n",
    "# plt.plot(history_nag_3.history['loss'],label='nag eps = 0.001')\n",
    "# plt.plot(history_nag_4.history['loss'],label='nag eps = 0.0001')\n",
    "\n",
    "plt.legend()\n",
    "plt.show()"
   ]
  },
  {
   "cell_type": "markdown",
   "id": "5db3b2dc-3ef7-4b55-8470-164a561f097c",
   "metadata": {},
   "source": [
    "Plot first 5 epochs"
   ]
  },
  {
   "cell_type": "code",
   "execution_count": 22,
   "id": "642d138e-64a2-4a07-81c4-c2b435bbfa52",
   "metadata": {},
   "outputs": [
    {
     "data": {
      "image/png": "[encoded data removed]",
      "text/plain": [
       "<Figure size 864x504 with 1 Axes>"
      ]
     },
     "metadata": {
      "needs_background": "light"
     },
     "output_type": "display_data"
    }
   ],
   "source": [
    "fig = plt.figure(figsize=(12,7))\n",
    "\n",
    "plt.title('Learning Curves - Multiclass')\n",
    "plt.xlabel('Epoch')\n",
    "plt.xticks(ticks=range(0,20,2))\n",
    "plt.ylabel('Cross Entropy')\n",
    "\n",
    "plt.plot(history_adam_multi.history['loss'][:5],label='adam')\n",
    "plt.plot(history_nag_multi_1.history['loss'][:5],label='nag eps = 0.01')\n",
    "plt.plot(history_nag_multi_2.history['loss'][:5],label='nag eps = 0.001')\n",
    "# plt.plot(history_nag_3.history['loss'],label='nag eps = 0.001')\n",
    "# plt.plot(history_nag_4.history['loss'],label='nag eps = 0.0001')\n",
    "\n",
    "plt.legend()\n",
    "plt.show()"
   ]
  },
  {
   "cell_type": "markdown",
   "id": "67c70b1a-0f3d-4f77-96ba-ce54be67d4a1",
   "metadata": {},
   "source": [
    "Plot last 15 epochs"
   ]
  },
  {
   "cell_type": "code",
   "execution_count": 23,
   "id": "49c33cfd-d85d-4b15-8c0f-7904494e4a4d",
   "metadata": {},
   "outputs": [
    {
     "data": {
      "image/png": "[encoded data removed]",
      "text/plain": [
       "<Figure size 864x504 with 1 Axes>"
      ]
     },
     "metadata": {
      "needs_background": "light"
     },
     "output_type": "display_data"
    }
   ],
   "source": [
    "fig = plt.figure(figsize=(12,7))\n",
    "\n",
    "plt.title('Learning Curves - Multiclass')\n",
    "plt.xlabel('Epoch')\n",
    "plt.xticks(ticks=range(0,20,2))\n",
    "plt.ylabel('Cross Entropy')\n",
    "\n",
    "plt.plot(history_adam_multi.history['loss'][5:],label='adam')\n",
    "plt.plot(history_nag_multi_1.history['loss'][5:],label='nag eps = 0.01')\n",
    "plt.plot(history_nag_multi_2.history['loss'][5:],label='nag eps = 0.001')\n",
    "# plt.plot(history_nag_3.history['loss'],label='nag eps = 0.001')\n",
    "# plt.plot(history_nag_4.history['loss'],label='nag eps = 0.0001')\n",
    "\n",
    "plt.legend()\n",
    "plt.show()"
   ]
  },
  {
   "cell_type": "markdown",
   "id": "981f94e5-4e0f-4218-891d-39f4bf49ef72",
   "metadata": {
    "jp-MarkdownHeadingCollapsed": true,
    "tags": []
   },
   "source": [
    "## Test"
   ]
  },
  {
   "cell_type": "markdown",
   "id": "c74e3555-a0ab-4c7b-9b7d-b99851c281b2",
   "metadata": {},
   "source": [
    "Test data"
   ]
  },
  {
   "cell_type": "code",
   "execution_count": 30,
   "id": "a5a2b081-6def-4819-8c28-ff5ff252dc38",
   "metadata": {},
   "outputs": [],
   "source": [
    "X_test = test_data[test_data.columns[:-2]]\n",
    "\n",
    "#grab connection_category (normal vs dos vs u2r etc.)\n",
    "test_targ = test_data.connection_category.copy()\n",
    "#convert to numeric 0 normal, 1 attack\n",
    "Y_test = test_targ.apply(lambda x: 0 if x=='normal' else 1)"
   ]
  },
  {
   "cell_type": "markdown",
   "id": "53685a58-1dd7-4fbc-baa7-2947915f8c6c",
   "metadata": {},
   "source": [
    "Multiclass training (normal = `[1,0,0,0,0]`, u2r = `[0,1,0,0,0]` etc.)"
   ]
  },
  {
   "cell_type": "code",
   "execution_count": 27,
   "id": "74458dab-dfd0-4f96-953f-6ddc710ad713",
   "metadata": {},
   "outputs": [],
   "source": [
    "Y_test_multi = pd.factorize(test_targ)[0]\n",
    "Y_test_multi = tf.keras.utils.to_categorical(Y_test_multi,5)"
   ]
  },
  {
   "cell_type": "code",
   "execution_count": 64,
   "id": "2a1a4c3b-000e-483a-a70e-adaca8edc03f",
   "metadata": {
    "scrolled": true,
    "tags": []
   },
   "outputs": [],
   "source": [
    "adam_pred = nn_model1.predict(X_test,batch_size=1000)"
   ]
  },
  {
   "cell_type": "code",
   "execution_count": 65,
   "id": "795dd1d0-7241-4449-97e8-9cc173e151d9",
   "metadata": {},
   "outputs": [
    {
     "data": {
      "text/plain": [
       "array([[6.4400569e-06],\n",
       "       [2.5367484e-05],\n",
       "       [1.7445783e-06],\n",
       "       ...,\n",
       "       [1.0935867e-06],\n",
       "       [1.3062875e-07],\n",
       "       [9.2790579e-08]], dtype=float32)"
      ]
     },
     "execution_count": 65,
     "metadata": {},
     "output_type": "execute_result"
    }
   ],
   "source": [
    "adam_pred"
   ]
  },
  {
   "cell_type": "code",
   "execution_count": 50,
   "id": "594a2f05-c222-47ab-8971-85379972465f",
   "metadata": {},
   "outputs": [],
   "source": [
    "from sklearn.metrics import roc_curve\n",
    "from sklearn.metrics import roc_auc_score"
   ]
  },
  {
   "cell_type": "code",
   "execution_count": 58,
   "id": "a1e9e318-7962-479b-8e71-36dd27eb9911",
   "metadata": {},
   "outputs": [],
   "source": [
    "def plotROC(y_true,y_pred,title='Title'):\n",
    "    fpr, tpr, thresholds = roc_curve(y_true, y_pred)\n",
    "    \n",
    "    plt.subplots(1, figsize=(12,7))\n",
    "\n",
    "    plt.title(title)\n",
    "    plt.plot(fpr, tpr)\n",
    "    \n",
    "    #plot y=x line for comparison\n",
    "    plt.plot([0, 1], ls=\"--\")\n",
    "    #create right-angle shape indiciative of a perfect model\n",
    "    plt.plot([0, 0], [1, 0] , c=\".7\"), plt.plot([1, 1] , c=\".7\")\n",
    "    plt.ylabel('True Positive Rate')\n",
    "    plt.xlabel('False Positive Rate')\n",
    "    plt.show()\n",
    "    \n",
    "    prob = roc_auc_score(y_true, y_pred)\n",
    "    print('      ROC AUC Score: {:.4f}'.format(prob))"
   ]
  },
  {
   "cell_type": "code",
   "execution_count": 66,
   "id": "05d5c33c-dacf-49c6-8b2a-e46ebf509f30",
   "metadata": {},
   "outputs": [
    {
     "data": {
      "image/png": "[encoded data removed]",
      "text/plain": [
       "<Figure size 864x504 with 1 Axes>"
      ]
     },
     "metadata": {
      "needs_background": "light"
     },
     "output_type": "display_data"
    },
    {
     "name": "stdout",
     "output_type": "stream",
     "text": [
      "      ROC AUC Score: 1.0000\n"
     ]
    }
   ],
   "source": [
    "plotROC(Y_test,adam_pred)"
   ]
  },
  {
   "cell_type": "code",
   "execution_count": 67,
   "id": "aea3a37b-f746-461d-b7ac-f75c8c533bbe",
   "metadata": {},
   "outputs": [
    {
     "data": {
      "text/plain": [
       "array([[6.4400569e-06],\n",
       "       [2.5367484e-05],\n",
       "       [1.7445783e-06],\n",
       "       ...,\n",
       "       [1.0935867e-06],\n",
       "       [1.3062875e-07],\n",
       "       [9.2790579e-08]], dtype=float32)"
      ]
     },
     "execution_count": 67,
     "metadata": {},
     "output_type": "execute_result"
    }
   ],
   "source": [
    "adam_pred"
   ]
  },
  {
   "cell_type": "code",
   "execution_count": 74,
   "id": "96dfdb69-9ac0-4539-b803-11bdbb18ba83",
   "metadata": {},
   "outputs": [
    {
     "data": {
      "text/plain": [
       "array([[0.],\n",
       "       [0.],\n",
       "       [0.],\n",
       "       ...,\n",
       "       [0.],\n",
       "       [0.],\n",
       "       [0.]], dtype=float32)"
      ]
     },
     "execution_count": 74,
     "metadata": {},
     "output_type": "execute_result"
    }
   ],
   "source": [
    "binary_adam_pred = adam_pred\n",
    "binary_adam_pred[binary_adam_pred<0.5]=0\n",
    "binary_adam_pred[binary_adam_pred>0.5]=1\n",
    "binary_adam_pred"
   ]
  },
  {
   "cell_type": "code",
   "execution_count": 42,
   "id": "379ac765-7af8-4c0b-ae89-001bb0a68742",
   "metadata": {},
   "outputs": [],
   "source": [
    "from sklearn.metrics import confusion_matrix"
   ]
  },
  {
   "cell_type": "code",
   "execution_count": 75,
   "id": "f3894ce3-a36f-48f5-884e-41600cbae6b4",
   "metadata": {},
   "outputs": [
    {
     "data": {
      "text/plain": [
       "array([[ 9733,     7],\n",
       "       [   12, 39651]], dtype=int64)"
      ]
     },
     "execution_count": 75,
     "metadata": {},
     "output_type": "execute_result"
    }
   ],
   "source": [
    "confusion_matrix(Y_test,binary_adam_pred)"
   ]
  },
  {
   "cell_type": "markdown",
   "id": "0b62b4f1-0776-4fff-a3bf-b68c35aaefb8",
   "metadata": {},
   "source": [
    "Test multiclass on adam optimizer"
   ]
  },
  {
   "cell_type": "code",
   "execution_count": null,
   "id": "3e2e0758-4673-439c-b236-1d4fc2b7f429",
   "metadata": {},
   "outputs": [],
   "source": [
    "categ_model"
   ]
  },
  {
   "cell_type": "code",
   "execution_count": 13,
   "id": "089b1d80-b69a-4843-b974-dc9c7c0e739b",
   "metadata": {},
   "outputs": [],
   "source": [
    "from keras.models import Sequential\n",
    "from keras.layers import Dense\n",
    "from keras.layers import Input"
   ]
  },
  {
   "cell_type": "code",
   "execution_count": 14,
   "id": "87e71086-52c1-492a-b899-7297f75bdd9b",
   "metadata": {
    "scrolled": true,
    "tags": []
   },
   "outputs": [
    {
     "name": "stdout",
     "output_type": "stream",
     "text": [
      "Epoch 1/20\n",
      "445/445 [==============================] - 3s 7ms/step - loss: 0.3265 - accuracy: 0.9014\n",
      "Epoch 2/20\n",
      "445/445 [==============================] - 3s 7ms/step - loss: 0.0332 - accuracy: 0.9903\n",
      "Epoch 3/20\n",
      "445/445 [==============================] - 3s 7ms/step - loss: 0.0186 - accuracy: 0.9952\n",
      "Epoch 4/20\n",
      "445/445 [==============================] - 3s 7ms/step - loss: 0.0118 - accuracy: 0.9971\n",
      "Epoch 5/20\n",
      "445/445 [==============================] - 3s 7ms/step - loss: 0.0086 - accuracy: 0.9984\n",
      "Epoch 6/20\n",
      "445/445 [==============================] - 3s 7ms/step - loss: 0.0070 - accuracy: 0.9988\n",
      "Epoch 7/20\n",
      "445/445 [==============================] - 3s 7ms/step - loss: 0.0060 - accuracy: 0.9989\n",
      "Epoch 8/20\n",
      "445/445 [==============================] - 3s 7ms/step - loss: 0.0048 - accuracy: 0.9991\n",
      "Epoch 9/20\n",
      "445/445 [==============================] - 3s 7ms/step - loss: 0.0041 - accuracy: 0.9992\n",
      "Epoch 10/20\n",
      "445/445 [==============================] - 3s 7ms/step - loss: 0.0037 - accuracy: 0.9993\n",
      "Epoch 11/20\n",
      "445/445 [==============================] - 3s 7ms/step - loss: 0.0033 - accuracy: 0.9993\n",
      "Epoch 12/20\n",
      "445/445 [==============================] - 3s 7ms/step - loss: 0.0031 - accuracy: 0.9994\n",
      "Epoch 13/20\n",
      "445/445 [==============================] - 3s 7ms/step - loss: 0.0028 - accuracy: 0.9994\n",
      "Epoch 14/20\n",
      "445/445 [==============================] - 3s 7ms/step - loss: 0.0027 - accuracy: 0.9995\n",
      "Epoch 15/20\n",
      "445/445 [==============================] - 3s 7ms/step - loss: 0.0025 - accuracy: 0.9995\n",
      "Epoch 16/20\n",
      "445/445 [==============================] - 3s 7ms/step - loss: 0.0023 - accuracy: 0.9995\n",
      "Epoch 17/20\n",
      "445/445 [==============================] - 3s 7ms/step - loss: 0.0022 - accuracy: 0.9995\n",
      "Epoch 18/20\n",
      "445/445 [==============================] - 3s 7ms/step - loss: 0.0021 - accuracy: 0.9995\n",
      "Epoch 19/20\n",
      "445/445 [==============================] - 3s 7ms/step - loss: 0.0019 - accuracy: 0.9995\n",
      "Epoch 20/20\n",
      "445/445 [==============================] - 3s 7ms/step - loss: 0.0018 - accuracy: 0.9996\n"
     ]
    }
   ],
   "source": [
    "categ_model = Sequential()\n",
    "categ_model.add(Input(shape=X_train.shape[1],))\n",
    "categ_model.add(Dense(10,activation='relu'))\n",
    "categ_model.add(Dense(10,activation='relu'))\n",
    "categ_model.add(Dense(5,activation='softmax'))\n",
    "categ_model.compile(loss='categorical_crossentropy',optimizer='adam',metrics=['accuracy'])\n",
    "\n",
    "history_adam_multi = categ_model.fit(X_train,Y_train_multi,epochs=20,batch_size=1000)"
   ]
  },
  {
   "cell_type": "markdown",
   "id": "531c54db-13db-4dc4-8643-1cd689c8b635",
   "metadata": {},
   "source": [
    "Test on NAG mwith varying learning rates"
   ]
  },
  {
   "cell_type": "code",
   "execution_count": 15,
   "id": "b9422adb-59a5-4800-bb35-ffd6c15c8d29",
   "metadata": {
    "scrolled": true,
    "tags": []
   },
   "outputs": [
    {
     "name": "stdout",
     "output_type": "stream",
     "text": [
      "-----binary learning rate 0.01-----\n",
      "Epoch 1/20\n",
      "4447/4447 [==============================] - 30s 7ms/step - loss: 0.0138 - accuracy: 0.9954\n",
      "Epoch 2/20\n",
      "4447/4447 [==============================] - 29s 7ms/step - loss: 0.0052 - accuracy: 0.9984\n",
      "Epoch 3/20\n",
      "4447/4447 [==============================] - 29s 7ms/step - loss: 0.0039 - accuracy: 0.9989\n",
      "Epoch 4/20\n",
      "4447/4447 [==============================] - 29s 7ms/step - loss: 0.0033 - accuracy: 0.9991\n",
      "Epoch 5/20\n",
      "4447/4447 [==============================] - 29s 7ms/step - loss: 0.0030 - accuracy: 0.9992\n",
      "Epoch 6/20\n",
      "4447/4447 [==============================] - 29s 7ms/step - loss: 0.0027 - accuracy: 0.9993\n",
      "Epoch 7/20\n",
      "4447/4447 [==============================] - 29s 7ms/step - loss: 0.0025 - accuracy: 0.9993\n",
      "Epoch 8/20\n",
      "4447/4447 [==============================] - 29s 7ms/step - loss: 0.0024 - accuracy: 0.9994\n",
      "Epoch 9/20\n",
      "4447/4447 [==============================] - 29s 7ms/step - loss: 0.0022 - accuracy: 0.9994\n",
      "Epoch 10/20\n",
      "4447/4447 [==============================] - 29s 7ms/step - loss: 0.0022 - accuracy: 0.9994\n",
      "Epoch 11/20\n",
      "4447/4447 [==============================] - 29s 7ms/step - loss: 0.0021 - accuracy: 0.9994\n",
      "Epoch 12/20\n",
      "4447/4447 [==============================] - 29s 6ms/step - loss: 0.0020 - accuracy: 0.9995\n",
      "Epoch 13/20\n",
      "4447/4447 [==============================] - 29s 7ms/step - loss: 0.0020 - accuracy: 0.9995\n",
      "Epoch 14/20\n",
      "4447/4447 [==============================] - 29s 6ms/step - loss: 0.0019 - accuracy: 0.9995\n",
      "Epoch 15/20\n",
      "4447/4447 [==============================] - 29s 7ms/step - loss: 0.0018 - accuracy: 0.9995\n",
      "Epoch 16/20\n",
      "4447/4447 [==============================] - 29s 7ms/step - loss: 0.0017 - accuracy: 0.9995\n",
      "Epoch 17/20\n",
      "4447/4447 [==============================] - 29s 7ms/step - loss: 0.0017 - accuracy: 0.9995\n",
      "Epoch 18/20\n",
      "4447/4447 [==============================] - 29s 7ms/step - loss: 0.0016 - accuracy: 0.9996\n",
      "Epoch 19/20\n",
      "4447/4447 [==============================] - 29s 7ms/step - loss: 0.0016 - accuracy: 0.9996\n",
      "Epoch 20/20\n",
      "4447/4447 [==============================] - 29s 6ms/step - loss: 0.0016 - accuracy: 0.9996\n",
      "\n",
      "-----multi learning rate 0.01-----\n",
      "Epoch 1/20\n",
      "4447/4447 [==============================] - 25s 6ms/step - loss: 0.0337 - accuracy: 0.9898\n",
      "Epoch 2/20\n",
      "4447/4447 [==============================] - 25s 6ms/step - loss: 0.0106 - accuracy: 0.9965\n",
      "Epoch 3/20\n",
      "4447/4447 [==============================] - 25s 6ms/step - loss: 0.0075 - accuracy: 0.9976\n",
      "Epoch 4/20\n",
      "4447/4447 [==============================] - 25s 6ms/step - loss: 0.0060 - accuracy: 0.9983\n",
      "Epoch 5/20\n",
      "4447/4447 [==============================] - 25s 6ms/step - loss: 0.0052 - accuracy: 0.9986\n",
      "Epoch 6/20\n",
      "4447/4447 [==============================] - 25s 6ms/step - loss: 0.0047 - accuracy: 0.9988\n",
      "Epoch 7/20\n",
      "4447/4447 [==============================] - 25s 6ms/step - loss: 0.0043 - accuracy: 0.9989\n",
      "Epoch 8/20\n",
      "4447/4447 [==============================] - 25s 6ms/step - loss: 0.0041 - accuracy: 0.9989\n",
      "Epoch 9/20\n",
      "4447/4447 [==============================] - 25s 6ms/step - loss: 0.0038 - accuracy: 0.9991\n",
      "Epoch 10/20\n",
      "4447/4447 [==============================] - 25s 6ms/step - loss: 0.0036 - accuracy: 0.9991\n",
      "Epoch 11/20\n",
      "4447/4447 [==============================] - 25s 6ms/step - loss: 0.0035 - accuracy: 0.9991\n",
      "Epoch 12/20\n",
      "4447/4447 [==============================] - 25s 6ms/step - loss: 0.0033 - accuracy: 0.9991\n",
      "Epoch 13/20\n",
      "4447/4447 [==============================] - 25s 6ms/step - loss: 0.0033 - accuracy: 0.9992\n",
      "Epoch 14/20\n",
      "4447/4447 [==============================] - 25s 6ms/step - loss: 0.0032 - accuracy: 0.9992\n",
      "Epoch 15/20\n",
      "4447/4447 [==============================] - 25s 6ms/step - loss: 0.0031 - accuracy: 0.9992\n",
      "Epoch 16/20\n",
      "4447/4447 [==============================] - 25s 6ms/step - loss: 0.0031 - accuracy: 0.9992\n",
      "Epoch 17/20\n",
      "4447/4447 [==============================] - 25s 6ms/step - loss: 0.0030 - accuracy: 0.9992\n",
      "Epoch 18/20\n",
      "4447/4447 [==============================] - 25s 6ms/step - loss: 0.0030 - accuracy: 0.9992\n",
      "Epoch 19/20\n",
      "4447/4447 [==============================] - 25s 6ms/step - loss: 0.0029 - accuracy: 0.9992\n",
      "Epoch 20/20\n",
      "4447/4447 [==============================] - 25s 6ms/step - loss: 0.0029 - accuracy: 0.9992\n",
      "\n",
      "-----binary learning rate 0.001-----\n",
      "Epoch 1/20\n",
      "4447/4447 [==============================] - 29s 7ms/step - loss: 0.0738 - accuracy: 0.9820\n",
      "Epoch 2/20\n",
      "4447/4447 [==============================] - 29s 7ms/step - loss: 0.0193 - accuracy: 0.9925\n",
      "Epoch 3/20\n",
      "4447/4447 [==============================] - 29s 7ms/step - loss: 0.0128 - accuracy: 0.9961\n",
      "Epoch 4/20\n",
      "4447/4447 [==============================] - 29s 7ms/step - loss: 0.0106 - accuracy: 0.9966\n",
      "Epoch 5/20\n",
      "4447/4447 [==============================] - 29s 7ms/step - loss: 0.0094 - accuracy: 0.9971\n",
      "Epoch 6/20\n",
      "4447/4447 [==============================] - 29s 7ms/step - loss: 0.0086 - accuracy: 0.9976\n",
      "Epoch 7/20\n",
      "4447/4447 [==============================] - 29s 7ms/step - loss: 0.0080 - accuracy: 0.9978\n",
      "Epoch 8/20\n",
      "4447/4447 [==============================] - 29s 7ms/step - loss: 0.0075 - accuracy: 0.9979\n",
      "Epoch 9/20\n",
      "4447/4447 [==============================] - 29s 7ms/step - loss: 0.0072 - accuracy: 0.9981\n",
      "Epoch 10/20\n",
      "4447/4447 [==============================] - 29s 7ms/step - loss: 0.0069 - accuracy: 0.9982\n",
      "Epoch 11/20\n",
      "4447/4447 [==============================] - 29s 7ms/step - loss: 0.0066 - accuracy: 0.9982\n",
      "Epoch 12/20\n",
      "4447/4447 [==============================] - 29s 7ms/step - loss: 0.0064 - accuracy: 0.9983\n",
      "Epoch 13/20\n",
      "4447/4447 [==============================] - 29s 7ms/step - loss: 0.0062 - accuracy: 0.9984\n",
      "Epoch 14/20\n",
      "4447/4447 [==============================] - 29s 7ms/step - loss: 0.0060 - accuracy: 0.9985\n",
      "Epoch 15/20\n",
      "4447/4447 [==============================] - 29s 7ms/step - loss: 0.0058 - accuracy: 0.9985\n",
      "Epoch 16/20\n",
      "4447/4447 [==============================] - 29s 7ms/step - loss: 0.0056 - accuracy: 0.9986\n",
      "Epoch 17/20\n",
      "4447/4447 [==============================] - 30s 7ms/step - loss: 0.0054 - accuracy: 0.9986\n",
      "Epoch 18/20\n",
      "4447/4447 [==============================] - 29s 7ms/step - loss: 0.0053 - accuracy: 0.9987\n",
      "Epoch 19/20\n",
      "4447/4447 [==============================] - 29s 7ms/step - loss: 0.0051 - accuracy: 0.9987\n",
      "Epoch 20/20\n",
      "4447/4447 [==============================] - 29s 7ms/step - loss: 0.0050 - accuracy: 0.9988\n",
      "\n",
      "-----multi learning rate 0.001-----\n",
      "Epoch 1/20\n",
      "4447/4447 [==============================] - 26s 6ms/step - loss: 0.1105 - accuracy: 0.9677\n",
      "Epoch 2/20\n",
      "4447/4447 [==============================] - 25s 6ms/step - loss: 0.0581 - accuracy: 0.9838\n",
      "Epoch 3/20\n",
      "4447/4447 [==============================] - 25s 6ms/step - loss: 0.0463 - accuracy: 0.9839\n",
      "Epoch 4/20\n",
      "4447/4447 [==============================] - 25s 6ms/step - loss: 0.0385 - accuracy: 0.9842\n",
      "Epoch 5/20\n",
      "4447/4447 [==============================] - 25s 6ms/step - loss: 0.0315 - accuracy: 0.9895\n",
      "Epoch 6/20\n",
      "4447/4447 [==============================] - 25s 6ms/step - loss: 0.0238 - accuracy: 0.9929\n",
      "Epoch 7/20\n",
      "4447/4447 [==============================] - 25s 6ms/step - loss: 0.0202 - accuracy: 0.9939\n",
      "Epoch 8/20\n",
      "4447/4447 [==============================] - 26s 6ms/step - loss: 0.0177 - accuracy: 0.9945\n",
      "Epoch 9/20\n",
      "4447/4447 [==============================] - 25s 6ms/step - loss: 0.0159 - accuracy: 0.9952\n",
      "Epoch 10/20\n",
      "4447/4447 [==============================] - 25s 6ms/step - loss: 0.0143 - accuracy: 0.9958\n",
      "Epoch 11/20\n",
      "4447/4447 [==============================] - 25s 6ms/step - loss: 0.0130 - accuracy: 0.9964\n",
      "Epoch 12/20\n",
      "4447/4447 [==============================] - 25s 6ms/step - loss: 0.0121 - accuracy: 0.9967\n",
      "Epoch 13/20\n",
      "4447/4447 [==============================] - 25s 6ms/step - loss: 0.0114 - accuracy: 0.9970\n",
      "Epoch 14/20\n",
      "4447/4447 [==============================] - 25s 6ms/step - loss: 0.0108 - accuracy: 0.9971\n",
      "Epoch 15/20\n",
      "4447/4447 [==============================] - 25s 6ms/step - loss: 0.0102 - accuracy: 0.9972\n",
      "Epoch 16/20\n",
      "4447/4447 [==============================] - 26s 6ms/step - loss: 0.0098 - accuracy: 0.9974\n",
      "Epoch 17/20\n",
      "4447/4447 [==============================] - 25s 6ms/step - loss: 0.0093 - accuracy: 0.9975\n",
      "Epoch 18/20\n",
      "4447/4447 [==============================] - 26s 6ms/step - loss: 0.0090 - accuracy: 0.9976\n",
      "Epoch 19/20\n",
      "4447/4447 [==============================] - 26s 6ms/step - loss: 0.0086 - accuracy: 0.9977\n",
      "Epoch 20/20\n",
      "4447/4447 [==============================] - 26s 6ms/step - loss: 0.0082 - accuracy: 0.9978\n",
      "\n"
     ]
    }
   ],
   "source": [
    "count = 1\n",
    "\n",
    "for eps in [0.01,0.001]:\n",
    "    \n",
    "    #create optimizer with learning rate above\n",
    "    opt = tf.keras.optimizers.SGD(learning_rate = eps, \n",
    "                                  momentum = 0.9, \n",
    "                                  nesterov = True)\n",
    "\n",
    "    #same parameters as before, only changing optimizer\n",
    "    nn_model2 = createDNN(X = X_train, \n",
    "                          hidden_nodes = [10,10,1],\n",
    "                          activations = ['relu','relu','sigmoid'],\n",
    "                          loss = 'binary_crossentropy',\n",
    "                          optimizer=opt,\n",
    "                          metric='accuracy')\n",
    "    \n",
    "    #same as before for categ\n",
    "    categ_model = Sequential()\n",
    "    categ_model.add(Input(shape=X_train.shape[1],))\n",
    "    categ_model.add(Dense(10,activation='relu'))\n",
    "    categ_model.add(Dense(10,activation='relu'))\n",
    "    categ_model.add(Dense(5,activation='softmax'))\n",
    "    categ_model.compile(loss='categorical_crossentropy',optimizer=opt,metrics=['accuracy'])\n",
    "\n",
    "    #better preview\n",
    "    print('-'*5 + 'binary learning rate ' + str(eps) +5*'-')\n",
    "    #fit the model in same manner as for adam\n",
    "    history = nn_model2.fit(X_train,Y_train,epochs=20,batch_size=100)\n",
    "    print()\n",
    "\n",
    "    #create a variable called history_nag_i for each learning rate where i == count\n",
    "    locals()['history_nag_{}'.format(count)] = history\n",
    "    \n",
    "    #better preview\n",
    "    print('-'*5 + 'multi learning rate ' + str(eps) +5*'-')\n",
    "    #fit the model in same manner as for adam\n",
    "    history_multi = categ_model.fit(X_train,Y_train_multi,epochs=20,batch_size=100)\n",
    "    print()\n",
    "\n",
    "    #create a variable called history_nag_i for each learning rate where i == count\n",
    "    locals()['history_nag_multi_{}'.format(count)] = history_multi\n",
    "    \n",
    "    \n",
    "    #increase count for next iteration\n",
    "    count += 1"
   ]
  },
  {
   "cell_type": "markdown",
   "id": "25a93678-503d-4e58-aa74-b03ce30b397f",
   "metadata": {
    "tags": []
   },
   "source": [
    "## Trial"
   ]
  },
  {
   "cell_type": "markdown",
   "id": "d18a26f6-e444-4607-87d3-510cceec09ca",
   "metadata": {},
   "source": [
    "NAG should work better than adam when batch size is large compared to training size. For example, here, we take 4446 data points and batch_size of 1000 and 30 epochs, for a total time taken of 0.3 seconds total runtime compared to the 6 minutes above."
   ]
  },
  {
   "cell_type": "code",
   "execution_count": 114,
   "id": "d85d815f-55d9-4978-b7dc-331812535374",
   "metadata": {},
   "outputs": [
    {
     "name": "stdout",
     "output_type": "stream",
     "text": [
      "[0. 0. 0. 0. 1.] 3695\n",
      "[0. 0. 0. 1. 0.] 1006\n",
      "[0. 0. 1. 0. 0.] 352330\n",
      "[0. 1. 0. 0. 0.] 49\n",
      "[1. 0. 0. 0. 0.] 87538\n"
     ]
    }
   ],
   "source": [
    "for c in np.unique(y_train_multi,axis=0):\n",
    "    c_count = sum(np.all(y_train_multi==c, axis=1))\n",
    "    print(c, c_count)"
   ]
  },
  {
   "cell_type": "code",
   "execution_count": 115,
   "id": "2b2ada69-a6ff-4bea-919e-c4e46c7b98e1",
   "metadata": {},
   "outputs": [],
   "source": [
    "from sklearn.model_selection import train_test_split"
   ]
  },
  {
   "cell_type": "code",
   "execution_count": 118,
   "id": "49946927-3579-4326-b825-bbbb3fd681fb",
   "metadata": {},
   "outputs": [],
   "source": [
    "X_train_small, X_test_small, y_train_small, y_test_small =  train_test_split(X_train, y_train_multi,\n",
    "                                                                             test_size=0.9,random_state=42,\n",
    "                                                                             shuffle=True,stratify=y_train_multi)"
   ]
  },
  {
   "cell_type": "code",
   "execution_count": 120,
   "id": "22c942b1-5965-4d93-81ab-5f4ad737022a",
   "metadata": {},
   "outputs": [
    {
     "data": {
      "text/plain": [
       "(44461, 400157, 44461, 400157)"
      ]
     },
     "execution_count": 120,
     "metadata": {},
     "output_type": "execute_result"
    }
   ],
   "source": [
    "len(X_train_small), len(X_test_small), len(y_train_small), len(y_test_small)"
   ]
  },
  {
   "cell_type": "code",
   "execution_count": 122,
   "id": "eeca3e5b-0a3d-4de8-b312-b09d0385e80b",
   "metadata": {},
   "outputs": [
    {
     "name": "stdout",
     "output_type": "stream",
     "text": [
      "[0. 0. 0. 0. 1.] 369\n",
      "[0. 0. 0. 1. 0.] 101\n",
      "[0. 0. 1. 0. 0.] 35232\n",
      "[0. 1. 0. 0. 0.] 5\n",
      "[1. 0. 0. 0. 0.] 8754\n"
     ]
    }
   ],
   "source": [
    "for c in np.unique(y_train_multi,axis=0):\n",
    "    c_count = sum(np.all(y_train_small==c, axis=1))\n",
    "    print(c, c_count)"
   ]
  },
  {
   "cell_type": "code",
   "execution_count": 147,
   "id": "b256dc3c-3092-47c5-9cac-f9131f5ad321",
   "metadata": {
    "scrolled": true,
    "tags": []
   },
   "outputs": [
    {
     "name": "stdout",
     "output_type": "stream",
     "text": [
      "Epoch 1/30\n",
      "45/45 [==============================] - 1s 8ms/step - loss: 1.6416 - accuracy: 0.2508\n",
      "Epoch 2/30\n",
      "45/45 [==============================] - 0s 6ms/step - loss: 0.5141 - accuracy: 0.8064\n",
      "Epoch 3/30\n",
      "45/45 [==============================] - 0s 6ms/step - loss: 0.3601 - accuracy: 0.8170\n",
      "Epoch 4/30\n",
      "45/45 [==============================] - 0s 6ms/step - loss: 0.2733 - accuracy: 0.9043\n",
      "Epoch 5/30\n",
      "45/45 [==============================] - 0s 6ms/step - loss: 0.1731 - accuracy: 0.9520\n",
      "Epoch 6/30\n",
      "45/45 [==============================] - 0s 6ms/step - loss: 0.1172 - accuracy: 0.9626\n",
      "Epoch 7/30\n",
      "45/45 [==============================] - 0s 6ms/step - loss: 0.0933 - accuracy: 0.9756\n",
      "Epoch 8/30\n",
      "45/45 [==============================] - 0s 6ms/step - loss: 0.0803 - accuracy: 0.9789\n",
      "Epoch 9/30\n",
      "45/45 [==============================] - 0s 6ms/step - loss: 0.0717 - accuracy: 0.9802\n",
      "Epoch 10/30\n",
      "45/45 [==============================] - 0s 6ms/step - loss: 0.0655 - accuracy: 0.9813\n",
      "Epoch 11/30\n",
      "45/45 [==============================] - 0s 7ms/step - loss: 0.0604 - accuracy: 0.9824\n",
      "Epoch 12/30\n",
      "45/45 [==============================] - 0s 6ms/step - loss: 0.0560 - accuracy: 0.9847\n",
      "Epoch 13/30\n",
      "45/45 [==============================] - 0s 6ms/step - loss: 0.0522 - accuracy: 0.9867\n",
      "Epoch 14/30\n",
      "45/45 [==============================] - 0s 6ms/step - loss: 0.0489 - accuracy: 0.9870\n",
      "Epoch 15/30\n",
      "45/45 [==============================] - 0s 6ms/step - loss: 0.0458 - accuracy: 0.9877\n",
      "Epoch 16/30\n",
      "45/45 [==============================] - 0s 6ms/step - loss: 0.0428 - accuracy: 0.9890\n",
      "Epoch 17/30\n",
      "45/45 [==============================] - 0s 6ms/step - loss: 0.0402 - accuracy: 0.9899\n",
      "Epoch 18/30\n",
      "45/45 [==============================] - 0s 7ms/step - loss: 0.0377 - accuracy: 0.9901\n",
      "Epoch 19/30\n",
      "45/45 [==============================] - 0s 7ms/step - loss: 0.0354 - accuracy: 0.9903\n",
      "Epoch 20/30\n",
      "45/45 [==============================] - 0s 7ms/step - loss: 0.0333 - accuracy: 0.9908\n",
      "Epoch 21/30\n",
      "45/45 [==============================] - 0s 6ms/step - loss: 0.0314 - accuracy: 0.9913\n",
      "Epoch 22/30\n",
      "45/45 [==============================] - 0s 7ms/step - loss: 0.0296 - accuracy: 0.9914\n",
      "Epoch 23/30\n",
      "45/45 [==============================] - 0s 9ms/step - loss: 0.0279 - accuracy: 0.9916\n",
      "Epoch 24/30\n",
      "45/45 [==============================] - 0s 7ms/step - loss: 0.0265 - accuracy: 0.9917\n",
      "Epoch 25/30\n",
      "45/45 [==============================] - 0s 7ms/step - loss: 0.0251 - accuracy: 0.9918\n",
      "Epoch 26/30\n",
      "45/45 [==============================] - 0s 7ms/step - loss: 0.0239 - accuracy: 0.9921\n",
      "Epoch 27/30\n",
      "45/45 [==============================] - 0s 7ms/step - loss: 0.0228 - accuracy: 0.9922\n",
      "Epoch 28/30\n",
      "45/45 [==============================] - 0s 6ms/step - loss: 0.0217 - accuracy: 0.9928\n",
      "Epoch 29/30\n",
      "45/45 [==============================] - 0s 9ms/step - loss: 0.0208 - accuracy: 0.9944\n",
      "Epoch 30/30\n",
      "45/45 [==============================] - 0s 7ms/step - loss: 0.0199 - accuracy: 0.9948\n"
     ]
    }
   ],
   "source": [
    "sm_adam = Sequential()\n",
    "sm_adam.add(Input(shape=(X_train_small.shape[1],)))\n",
    "sm_adam.add(Dense(10,activation='relu'))\n",
    "sm_adam.add(Dense(5,activation='softmax'))\n",
    "sm_adam.compile(loss='categorical_crossentropy',optimizer='adam',metrics='accuracy')\n",
    "\n",
    "sm_adam_hist = sm_adam.fit(X_train_small,y_train_small,epochs=30,batch_size=1000)"
   ]
  },
  {
   "cell_type": "code",
   "execution_count": 131,
   "id": "d5ed835d-df48-425d-ac0a-7183e585b2b5",
   "metadata": {
    "scrolled": true,
    "tags": []
   },
   "outputs": [
    {
     "name": "stdout",
     "output_type": "stream",
     "text": [
      "Epoch 1/30\n",
      "45/45 [==============================] - 1s 7ms/step - loss: 1.1387 - accuracy: 0.6508\n",
      "Epoch 2/30\n",
      "45/45 [==============================] - 0s 6ms/step - loss: 0.2975 - accuracy: 0.8953\n",
      "Epoch 3/30\n",
      "45/45 [==============================] - 0s 6ms/step - loss: 0.1859 - accuracy: 0.9504\n",
      "Epoch 4/30\n",
      "45/45 [==============================] - 0s 6ms/step - loss: 0.1546 - accuracy: 0.9544\n",
      "Epoch 5/30\n",
      "45/45 [==============================] - 0s 6ms/step - loss: 0.1407 - accuracy: 0.9554\n",
      "Epoch 6/30\n",
      "45/45 [==============================] - 0s 6ms/step - loss: 0.1325 - accuracy: 0.9571\n",
      "Epoch 7/30\n",
      "45/45 [==============================] - 0s 6ms/step - loss: 0.1266 - accuracy: 0.9584\n",
      "Epoch 8/30\n",
      "45/45 [==============================] - 0s 6ms/step - loss: 0.1218 - accuracy: 0.9632\n",
      "Epoch 9/30\n",
      "45/45 [==============================] - 0s 6ms/step - loss: 0.1177 - accuracy: 0.9656\n",
      "Epoch 10/30\n",
      "45/45 [==============================] - 0s 6ms/step - loss: 0.1141 - accuracy: 0.9673\n",
      "Epoch 11/30\n",
      "45/45 [==============================] - 0s 6ms/step - loss: 0.1107 - accuracy: 0.9678\n",
      "Epoch 12/30\n",
      "45/45 [==============================] - 0s 6ms/step - loss: 0.1074 - accuracy: 0.9684\n",
      "Epoch 13/30\n",
      "45/45 [==============================] - 0s 6ms/step - loss: 0.1044 - accuracy: 0.9713\n",
      "Epoch 14/30\n",
      "45/45 [==============================] - 0s 6ms/step - loss: 0.1017 - accuracy: 0.9775\n",
      "Epoch 15/30\n",
      "45/45 [==============================] - 0s 6ms/step - loss: 0.0993 - accuracy: 0.9797\n",
      "Epoch 16/30\n",
      "45/45 [==============================] - 0s 6ms/step - loss: 0.0970 - accuracy: 0.9801\n",
      "Epoch 17/30\n",
      "45/45 [==============================] - 0s 6ms/step - loss: 0.0950 - accuracy: 0.9807\n",
      "Epoch 18/30\n",
      "45/45 [==============================] - 0s 9ms/step - loss: 0.0931 - accuracy: 0.9812\n",
      "Epoch 19/30\n",
      "45/45 [==============================] - 0s 8ms/step - loss: 0.0913 - accuracy: 0.9813\n",
      "Epoch 20/30\n",
      "45/45 [==============================] - 0s 8ms/step - loss: 0.0896 - accuracy: 0.9816\n",
      "Epoch 21/30\n",
      "45/45 [==============================] - 0s 7ms/step - loss: 0.0880 - accuracy: 0.9817\n",
      "Epoch 22/30\n",
      "45/45 [==============================] - 0s 7ms/step - loss: 0.0866 - accuracy: 0.9820\n",
      "Epoch 23/30\n",
      "45/45 [==============================] - 0s 6ms/step - loss: 0.0853 - accuracy: 0.9821\n",
      "Epoch 24/30\n",
      "45/45 [==============================] - 0s 8ms/step - loss: 0.0842 - accuracy: 0.9823\n",
      "Epoch 25/30\n",
      "45/45 [==============================] - 0s 7ms/step - loss: 0.0832 - accuracy: 0.9824\n",
      "Epoch 26/30\n",
      "45/45 [==============================] - 0s 6ms/step - loss: 0.0822 - accuracy: 0.9824\n",
      "Epoch 27/30\n",
      "45/45 [==============================] - 0s 6ms/step - loss: 0.0813 - accuracy: 0.9826\n",
      "Epoch 28/30\n",
      "45/45 [==============================] - 0s 6ms/step - loss: 0.0804 - accuracy: 0.9826\n",
      "Epoch 29/30\n",
      "45/45 [==============================] - 0s 7ms/step - loss: 0.0796 - accuracy: 0.9827\n",
      "Epoch 30/30\n",
      "45/45 [==============================] - 0s 6ms/step - loss: 0.0789 - accuracy: 0.9828\n",
      "Epoch 1/30\n",
      "45/45 [==============================] - 1s 6ms/step - loss: 0.3572 - accuracy: 0.8608\n",
      "Epoch 2/30\n",
      "45/45 [==============================] - 0s 6ms/step - loss: 0.1262 - accuracy: 0.9718\n",
      "Epoch 3/30\n",
      "45/45 [==============================] - 0s 6ms/step - loss: 0.0973 - accuracy: 0.9768\n",
      "Epoch 4/30\n",
      "45/45 [==============================] - 0s 6ms/step - loss: 0.0847 - accuracy: 0.9795\n",
      "Epoch 5/30\n",
      "45/45 [==============================] - 0s 6ms/step - loss: 0.0778 - accuracy: 0.9811\n",
      "Epoch 6/30\n",
      "45/45 [==============================] - 0s 6ms/step - loss: 0.0727 - accuracy: 0.9813\n",
      "Epoch 7/30\n",
      "45/45 [==============================] - 0s 6ms/step - loss: 0.0684 - accuracy: 0.9819\n",
      "Epoch 8/30\n",
      "45/45 [==============================] - 0s 6ms/step - loss: 0.0643 - accuracy: 0.9825\n",
      "Epoch 9/30\n",
      "45/45 [==============================] - 0s 6ms/step - loss: 0.0606 - accuracy: 0.9828\n",
      "Epoch 10/30\n",
      "45/45 [==============================] - 0s 6ms/step - loss: 0.0573 - accuracy: 0.9830\n",
      "Epoch 11/30\n",
      "45/45 [==============================] - 0s 6ms/step - loss: 0.0543 - accuracy: 0.9834\n",
      "Epoch 12/30\n",
      "45/45 [==============================] - 0s 7ms/step - loss: 0.0516 - accuracy: 0.9837\n",
      "Epoch 13/30\n",
      "45/45 [==============================] - 0s 9ms/step - loss: 0.0492 - accuracy: 0.9840\n",
      "Epoch 14/30\n",
      "45/45 [==============================] - 0s 8ms/step - loss: 0.0471 - accuracy: 0.9843\n",
      "Epoch 15/30\n",
      "45/45 [==============================] - 0s 7ms/step - loss: 0.0451 - accuracy: 0.9845\n",
      "Epoch 16/30\n",
      "45/45 [==============================] - 0s 7ms/step - loss: 0.0433 - accuracy: 0.9848\n",
      "Epoch 17/30\n",
      "45/45 [==============================] - 0s 7ms/step - loss: 0.0416 - accuracy: 0.9857\n",
      "Epoch 18/30\n",
      "45/45 [==============================] - 0s 8ms/step - loss: 0.0403 - accuracy: 0.9859\n",
      "Epoch 19/30\n",
      "45/45 [==============================] - 0s 8ms/step - loss: 0.0389 - accuracy: 0.9877\n",
      "Epoch 20/30\n",
      "45/45 [==============================] - 0s 7ms/step - loss: 0.0376 - accuracy: 0.9879\n",
      "Epoch 21/30\n",
      "45/45 [==============================] - 0s 6ms/step - loss: 0.0365 - accuracy: 0.9889\n",
      "Epoch 22/30\n",
      "45/45 [==============================] - 0s 7ms/step - loss: 0.0354 - accuracy: 0.9893\n",
      "Epoch 23/30\n",
      "45/45 [==============================] - 0s 7ms/step - loss: 0.0344 - accuracy: 0.9896\n",
      "Epoch 24/30\n",
      "45/45 [==============================] - 0s 7ms/step - loss: 0.0334 - accuracy: 0.9897\n",
      "Epoch 25/30\n",
      "45/45 [==============================] - 0s 7ms/step - loss: 0.0326 - accuracy: 0.9899\n",
      "Epoch 26/30\n",
      "45/45 [==============================] - 0s 7ms/step - loss: 0.0317 - accuracy: 0.9900\n",
      "Epoch 27/30\n",
      "45/45 [==============================] - 0s 8ms/step - loss: 0.0309 - accuracy: 0.9899\n",
      "Epoch 28/30\n",
      "45/45 [==============================] - 0s 7ms/step - loss: 0.0301 - accuracy: 0.9901\n",
      "Epoch 29/30\n",
      "45/45 [==============================] - 0s 6ms/step - loss: 0.0294 - accuracy: 0.9902\n",
      "Epoch 30/30\n",
      "45/45 [==============================] - 0s 6ms/step - loss: 0.0287 - accuracy: 0.9902\n"
     ]
    }
   ],
   "source": [
    "count = 1\n",
    "\n",
    "for eps in [0.01,0.001]:\n",
    "    sm_nag = Sequential()\n",
    "    sm_nag.add(Input(shape=(X_train_small.shape[1],)))\n",
    "    sm_nag.add(Dense(10,activation='relu'))\n",
    "    sm_nag.add(Dense(5,activation='softmax'))\n",
    "    sm_nag.compile(loss='categorical_crossentropy',optimizer=opt,metrics='accuracy')\n",
    "    \n",
    "    locals()['sm_nag_{}'.format(count)] = sm_nag\n",
    "    \n",
    "    opt = tf.keras.optimizers.SGD(learning_rate = eps, \n",
    "                                  momentum = 0.9, \n",
    "                                  nesterov = True)\n",
    "    \n",
    "    sm_nag_hist = sm_nag.fit(X_train_small,y_train_small,epochs=30,batch_size=1000)\n",
    "    \n",
    "    locals()['sm_nag_hist_{}'.format(count)] = sm_nag_hist\n",
    "    del sm_nag_hist\n",
    "    del sm_nag\n",
    "    \n",
    "    count+=1"
   ]
  },
  {
   "cell_type": "markdown",
   "id": "f1ba597a-0b80-4f39-9ec4-fba642355bf6",
   "metadata": {
    "tags": []
   },
   "source": [
    "#### Plot (Stratified)"
   ]
  },
  {
   "cell_type": "code",
   "execution_count": 135,
   "id": "de43c7f4-389d-4788-a3f7-36a0a62c7ac8",
   "metadata": {},
   "outputs": [],
   "source": [
    "for op in ['adam','nag_1','nag_2']:\n",
    "    pred = locals()['sm_{}'.format(op)].predict(X_test_small)\n",
    "    \n",
    "    locals()['{}_small_pred'.format(op)] = pred\n",
    "    \n",
    "del pred"
   ]
  },
  {
   "cell_type": "code",
   "execution_count": 137,
   "id": "24b516dd-bf60-4eef-81d9-7d494a27f13c",
   "metadata": {},
   "outputs": [
    {
     "data": {
      "text/plain": [
       "array([[ 78584,      0,     41,     99,     60],\n",
       "       [    28,      0,     11,      5,      0],\n",
       "       [    64,      0, 317027,      0,      7],\n",
       "       [   594,      0,    103,    208,      0],\n",
       "       [    85,      0,    115,      0,   3126]], dtype=int64)"
      ]
     },
     "execution_count": 137,
     "metadata": {},
     "output_type": "execute_result"
    }
   ],
   "source": [
    "confusion_matrix(tf.argmax(y_test_small,axis=1), tf.argmax(adam_small_pred,axis=1))"
   ]
  },
  {
   "cell_type": "code",
   "execution_count": 138,
   "id": "1efa13ef-b4b9-4a25-b950-2576318728b0",
   "metadata": {},
   "outputs": [
    {
     "data": {
      "text/plain": [
       "array([[ 78208,      0,    576,      0,      0],\n",
       "       [    44,      0,      0,      0,      0],\n",
       "       [  2008,      0, 315090,      0,      0],\n",
       "       [   871,      0,     34,      0,      0],\n",
       "       [  1579,      0,   1747,      0,      0]], dtype=int64)"
      ]
     },
     "execution_count": 138,
     "metadata": {},
     "output_type": "execute_result"
    }
   ],
   "source": [
    "confusion_matrix(tf.argmax(y_test_small,axis=1), tf.argmax(nag_1_small_pred,axis=1))"
   ]
  },
  {
   "cell_type": "code",
   "execution_count": 139,
   "id": "80445d16-7a79-4060-ac31-63030ebeb4a9",
   "metadata": {},
   "outputs": [
    {
     "data": {
      "text/plain": [
       "array([[ 78408,      0,    342,      0,     34],\n",
       "       [    26,      0,     18,      0,      0],\n",
       "       [   139,      0, 316955,      0,      4],\n",
       "       [   614,      0,    291,      0,      0],\n",
       "       [   825,      0,   1889,      0,    612]], dtype=int64)"
      ]
     },
     "execution_count": 139,
     "metadata": {},
     "output_type": "execute_result"
    }
   ],
   "source": [
    "confusion_matrix(tf.argmax(y_test_small,axis=1), tf.argmax(nag_2_small_pred,axis=1))"
   ]
  },
  {
   "cell_type": "code",
   "execution_count": 143,
   "id": "f6e9de43-8a48-4217-a7ed-6cfca1c3d071",
   "metadata": {},
   "outputs": [
    {
     "data": {
      "image/png": "[encoded data removed]",
      "text/plain": [
       "<Figure size 864x504 with 1 Axes>"
      ]
     },
     "metadata": {
      "needs_background": "light"
     },
     "output_type": "display_data"
    }
   ],
   "source": [
    "fig = plt.figure(figsize=(12,7))\n",
    "\n",
    "plt.title('Learning Curves - Multiclass')\n",
    "plt.xlabel('Epoch')\n",
    "plt.xticks(ticks=range(0,31,2))\n",
    "plt.ylabel('Accuracy')\n",
    "\n",
    "plt.plot(sm_adam_hist.history['accuracy'],label='adam')\n",
    "plt.plot(sm_nag_hist_1.history['accuracy'],label='nag eps = 0.01')\n",
    "plt.plot(sm_nag_hist_2.history['accuracy'],label='nag eps = 0.001')\n",
    "# plt.plot(history_nag_3.history['loss'],label='nag eps = 0.001')\n",
    "# plt.plot(history_nag_4.history['loss'],label='nag eps = 0.0001')\n",
    "\n",
    "plt.legend()\n",
    "plt.show()"
   ]
  },
  {
   "cell_type": "code",
   "execution_count": 145,
   "id": "4ea344f8-b78b-4b74-a849-a3efeb2e265d",
   "metadata": {},
   "outputs": [
    {
     "data": {
      "image/png": "[encoded data removed]",
      "text/plain": [
       "<Figure size 864x504 with 1 Axes>"
      ]
     },
     "metadata": {
      "needs_background": "light"
     },
     "output_type": "display_data"
    }
   ],
   "source": [
    "fig = plt.figure(figsize=(12,7))\n",
    "\n",
    "plt.title('Learning Curves - Multiclass')\n",
    "plt.xlabel('Epoch')\n",
    "plt.xticks(ticks=range(0,31,2))\n",
    "plt.ylabel('Cross Entropy')\n",
    "\n",
    "plt.plot(sm_adam_hist.history['accuracy'][:6],label='adam')\n",
    "plt.plot(sm_nag_hist_1.history['accuracy'][:6],label='nag eps = 0.01')\n",
    "plt.plot(sm_nag_hist_2.history['accuracy'][:6],label='nag eps = 0.001')\n",
    "# plt.plot(history_nag_3.history['loss'],label='nag eps = 0.001')\n",
    "# plt.plot(history_nag_4.history['loss'],label='nag eps = 0.0001')\n",
    "\n",
    "plt.legend()\n",
    "plt.show()"
   ]
  },
  {
   "cell_type": "markdown",
   "id": "fc8ca75c-5948-4be2-bf5e-26c43dc6fc01",
   "metadata": {
    "jp-MarkdownHeadingCollapsed": true,
    "tags": []
   },
   "source": [
    "#### Plot (Unstratified)"
   ]
  },
  {
   "cell_type": "markdown",
   "id": "6ce28f7d-7551-49cc-afe9-d06aed1a452a",
   "metadata": {},
   "source": [
    "Plot adam vs NAG $\\epsilon$ = 0.01 vs NAG $\\epsilon$ = 0.001 for the multiclass classifier case"
   ]
  },
  {
   "cell_type": "code",
   "execution_count": 51,
   "id": "5ef0bb31-58e7-4cda-8508-500b1d7bcd9e",
   "metadata": {},
   "outputs": [
    {
     "data": {
      "image/png": "[encoded data removed]",
      "text/plain": [
       "<Figure size 864x504 with 1 Axes>"
      ]
     },
     "metadata": {
      "needs_background": "light"
     },
     "output_type": "display_data"
    }
   ],
   "source": [
    "fig = plt.figure(figsize=(12,7))\n",
    "\n",
    "plt.title('Learning Curves - Binary')\n",
    "plt.xlabel('Epoch')\n",
    "plt.xticks(ticks=range(0,31,2))\n",
    "plt.ylabel('Cross Entropy')\n",
    "\n",
    "plt.plot(sm_adam_hist.history['loss'],label='adam')\n",
    "plt.plot(sm_nag_hist_1.history['loss'],label='nag eps = 0.01')\n",
    "plt.plot(sm_nag_hist_2.history['loss'],label='nag eps = 0.001')\n",
    "# plt.plot(history_nag_3.history['loss'],label='nag eps = 0.001')\n",
    "# plt.plot(history_nag_4.history['loss'],label='nag eps = 0.0001')\n",
    "\n",
    "plt.legend()\n",
    "plt.show()"
   ]
  },
  {
   "cell_type": "markdown",
   "id": "06cd7fb1-68af-4964-8666-55857adf8582",
   "metadata": {},
   "source": [
    "Inspect first 20 epochs"
   ]
  },
  {
   "cell_type": "code",
   "execution_count": 52,
   "id": "c77624ba-0731-448b-987e-cb3fe199bf28",
   "metadata": {},
   "outputs": [
    {
     "data": {
      "image/png": "[encoded data removed]",
      "text/plain": [
       "<Figure size 864x504 with 1 Axes>"
      ]
     },
     "metadata": {
      "needs_background": "light"
     },
     "output_type": "display_data"
    }
   ],
   "source": [
    "fig = plt.figure(figsize=(12,7))\n",
    "\n",
    "plt.title('Learning Curves - Binary')\n",
    "plt.xlabel('Epoch')\n",
    "plt.xticks(ticks=range(0,30,2))\n",
    "plt.ylabel('Cross Entropy')\n",
    "\n",
    "plt.plot(sm_adam_hist.history['loss'][:20],label='adam')\n",
    "plt.plot(sm_nag_hist_1.history['loss'][:20],label='nag eps = 0.01')\n",
    "plt.plot(sm_nag_hist_2.history['loss'][:20],label='nag eps = 0.001')\n",
    "# plt.plot(history_nag_3.history['loss'],label='nag eps = 0.001')\n",
    "# plt.plot(history_nag_4.history['loss'],label='nag eps = 0.0001')\n",
    "\n",
    "plt.legend()\n",
    "plt.show()"
   ]
  },
  {
   "cell_type": "code",
   "execution_count": null,
   "id": "221cf9b0-bb9d-48f6-b7ff-f909bef5d595",
   "metadata": {},
   "outputs": [],
   "source": []
  },
  {
   "cell_type": "code",
   "execution_count": 53,
   "id": "3a4b6490-3c5d-45a0-80a2-d9db98ae7b04",
   "metadata": {},
   "outputs": [
    {
     "data": {
      "image/png": "[encoded data removed]",
      "text/plain": [
       "<Figure size 864x504 with 1 Axes>"
      ]
     },
     "metadata": {
      "needs_background": "light"
     },
     "output_type": "display_data"
    }
   ],
   "source": [
    "fig = plt.figure(figsize=(12,7))\n",
    "\n",
    "plt.title('Learning Curves - Binary')\n",
    "plt.xlabel('Epoch')\n",
    "plt.xticks(ticks=range(0,20,2))\n",
    "plt.ylabel('Cross Entropy')\n",
    "\n",
    "plt.plot(sm_adam_hist.history['loss'][20:],label='adam')\n",
    "plt.plot(sm_nag_hist_1.history['loss'][20:],label='nag eps = 0.01')\n",
    "plt.plot(sm_nag_hist_2.history['loss'][20:],label='nag eps = 0.001')\n",
    "# plt.plot(history_nag_3.history['loss'],label='nag eps = 0.001')\n",
    "# plt.plot(history_nag_4.history['loss'],label='nag eps = 0.0001')\n",
    "\n",
    "plt.legend()\n",
    "plt.show()"
   ]
  },
  {
   "cell_type": "markdown",
   "id": "d8ca779f-adcf-4af2-866d-b2920bb479a4",
   "metadata": {},
   "source": [
    "Prediction"
   ]
  },
  {
   "cell_type": "code",
   "execution_count": 56,
   "id": "71303e33-464c-4fd8-b1a2-0424cabab004",
   "metadata": {},
   "outputs": [],
   "source": [
    "ad_pred = sm_adam.predict(X_test)\n",
    "nag_pred = sm_nag.predict(X_test)"
   ]
  },
  {
   "cell_type": "code",
   "execution_count": 70,
   "id": "295b5ec3-ce1f-4c2c-b491-617e585b0da8",
   "metadata": {},
   "outputs": [
    {
     "data": {
      "text/plain": [
       "49403"
      ]
     },
     "execution_count": 70,
     "metadata": {},
     "output_type": "execute_result"
    }
   ],
   "source": [
    "len(ad_pred)"
   ]
  },
  {
   "cell_type": "code",
   "execution_count": 72,
   "id": "819a5e08-36b6-429e-bf36-237631bd737e",
   "metadata": {},
   "outputs": [
    {
     "data": {
      "text/plain": [
       "<tf.Tensor: shape=(5,), dtype=int64, numpy=array([  737, 34393, 48681, 34484, 34393], dtype=int64)>"
      ]
     },
     "execution_count": 72,
     "metadata": {},
     "output_type": "execute_result"
    }
   ],
   "source": [
    "tf.argmax(input=ad_pred,axis=0)"
   ]
  },
  {
   "cell_type": "code",
   "execution_count": 62,
   "id": "87e62235-d401-4d32-b8df-1d698ffbd994",
   "metadata": {},
   "outputs": [],
   "source": [
    "from sklearn.metrics import roc_curve\n",
    "from sklearn.metrics import roc_auc_score\n",
    "from sklearn.metrics import confusion_matrix"
   ]
  },
  {
   "cell_type": "code",
   "execution_count": 73,
   "id": "ed7d4b92-dc66-4a11-a6f3-498ffc5a4202",
   "metadata": {},
   "outputs": [
    {
     "data": {
      "text/plain": [
       "array([[ 9740,     0,     0,     0,     0],\n",
       "       [39128,     0,     0,     0,     0],\n",
       "       [  120,     0,     0,     0,     0],\n",
       "       [  412,     0,     0,     0,     0],\n",
       "       [    3,     0,     0,     0,     0]], dtype=int64)"
      ]
     },
     "execution_count": 73,
     "metadata": {},
     "output_type": "execute_result"
    }
   ],
   "source": [
    "ad_pred_cm = ad_pred\n",
    "\n",
    "confusion_matrix(tf.argmax(y_test_multi,axis=1),tf.argmax(ad_pred,axis=1))"
   ]
  },
  {
   "cell_type": "code",
   "execution_count": 74,
   "id": "ba2113e7-e3c0-4806-98f4-cff6781934e3",
   "metadata": {},
   "outputs": [
    {
     "data": {
      "text/plain": [
       "array([[ 9740,     0,     0,     0,     0],\n",
       "       [39128,     0,     0,     0,     0],\n",
       "       [  120,     0,     0,     0,     0],\n",
       "       [  404,     0,     4,     4,     0],\n",
       "       [    3,     0,     0,     0,     0]], dtype=int64)"
      ]
     },
     "execution_count": 74,
     "metadata": {},
     "output_type": "execute_result"
    }
   ],
   "source": [
    "confusion_matrix(tf.argmax(y_test_multi,axis=1),tf.argmax(nag_pred,axis=1))"
   ]
  }
 ],
 "metadata": {
  "kernelspec": {
   "display_name": "assessment4env",
   "language": "python",
   "name": "assessment4env"
  },
  "language_info": {
   "codemirror_mode": {
    "name": "ipython",
    "version": 3
   },
   "file_extension": ".py",
   "mimetype": "text/x-python",
   "name": "python",
   "nbconvert_exporter": "python",
   "pygments_lexer": "ipython3",
   "version": "3.8.5"
  }
 },
 "nbformat": 4,
 "nbformat_minor": 5
}
